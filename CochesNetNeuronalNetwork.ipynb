{
  "cells": [
    {
      "cell_type": "markdown",
      "metadata": {
        "id": "view-in-github",
        "colab_type": "text"
      },
      "source": [
        "<a href=\"https://colab.research.google.com/github/Adrxking/colabs/blob/main/CochesNetNeuronalNetwork.ipynb\" target=\"_parent\"><img src=\"https://colab.research.google.com/assets/colab-badge.svg\" alt=\"Open In Colab\"/></a>"
      ]
    },
    {
      "cell_type": "markdown",
      "metadata": {
        "id": "9OoLEEqb1ZCK"
      },
      "source": [
        "## Librerías"
      ]
    },
    {
      "cell_type": "code",
      "source": [
        "from google.colab import drive\n",
        "drive.mount('/content/drive')"
      ],
      "metadata": {
        "colab": {
          "base_uri": "https://localhost:8080/"
        },
        "id": "4FuqoEmfePRN",
        "outputId": "acded325-18e1-42db-e3c1-0140bc9b4d58"
      },
      "execution_count": null,
      "outputs": [
        {
          "output_type": "stream",
          "name": "stdout",
          "text": [
            "Mounted at /content/drive\n"
          ]
        }
      ]
    },
    {
      "cell_type": "code",
      "execution_count": null,
      "metadata": {
        "id": "LNAOOAdOydre",
        "colab": {
          "base_uri": "https://localhost:8080/"
        },
        "outputId": "98f04e41-bf3a-40c1-fa01-9fd19406a83c"
      },
      "outputs": [
        {
          "output_type": "stream",
          "name": "stdout",
          "text": [
            "Looking in indexes: https://pypi.org/simple, https://us-python.pkg.dev/colab-wheels/public/simple/\n",
            "Collecting keras-tuner\n",
            "  Downloading keras_tuner-1.3.5-py3-none-any.whl (176 kB)\n",
            "\u001b[2K     \u001b[90m━━━━━━━━━━━━━━━━━━━━━━━━━━━━━━━━━━━━━━━\u001b[0m \u001b[32m176.1/176.1 kB\u001b[0m \u001b[31m2.4 MB/s\u001b[0m eta \u001b[36m0:00:00\u001b[0m\n",
            "\u001b[?25hRequirement already satisfied: packaging in /usr/local/lib/python3.10/dist-packages (from keras-tuner) (23.1)\n",
            "Requirement already satisfied: requests in /usr/local/lib/python3.10/dist-packages (from keras-tuner) (2.27.1)\n",
            "Collecting kt-legacy\n",
            "  Downloading kt_legacy-1.0.5-py3-none-any.whl (9.6 kB)\n",
            "Requirement already satisfied: idna<4,>=2.5 in /usr/local/lib/python3.10/dist-packages (from requests->keras-tuner) (3.4)\n",
            "Requirement already satisfied: certifi>=2017.4.17 in /usr/local/lib/python3.10/dist-packages (from requests->keras-tuner) (2022.12.7)\n",
            "Requirement already satisfied: charset-normalizer~=2.0.0 in /usr/local/lib/python3.10/dist-packages (from requests->keras-tuner) (2.0.12)\n",
            "Requirement already satisfied: urllib3<1.27,>=1.21.1 in /usr/local/lib/python3.10/dist-packages (from requests->keras-tuner) (1.26.15)\n",
            "Installing collected packages: kt-legacy, keras-tuner\n",
            "Successfully installed keras-tuner-1.3.5 kt-legacy-1.0.5\n"
          ]
        }
      ],
      "source": [
        "!pip install keras-tuner"
      ]
    },
    {
      "cell_type": "code",
      "execution_count": null,
      "metadata": {
        "id": "9xGNYpUW3Mi2",
        "colab": {
          "base_uri": "https://localhost:8080/"
        },
        "outputId": "5827ada8-541a-4c6b-f22b-029257dc2d0c"
      },
      "outputs": [
        {
          "output_type": "stream",
          "name": "stderr",
          "text": [
            "<ipython-input-3-efeaa62abbe3>:25: DeprecationWarning: `import kerastuner` is deprecated, please use `import keras_tuner`.\n",
            "  from kerastuner.tuners import RandomSearch\n"
          ]
        }
      ],
      "source": [
        "import pandas as pd\n",
        "import numpy as np\n",
        "import matplotlib.pyplot as plt\n",
        "from joblib import dump\n",
        "\n",
        "# upload files\n",
        "from google.colab import drive\n",
        "import io\n",
        "\n",
        "# formatos csv, json\n",
        "import csv\n",
        "import json\n",
        "\n",
        "from sklearn.preprocessing import OneHotEncoder\n",
        "from sklearn.model_selection import train_test_split\n",
        "from sklearn.preprocessing import StandardScaler, OneHotEncoder, MinMaxScaler\n",
        "from sklearn.metrics import mean_absolute_error, mean_squared_error, r2_score\n",
        "\n",
        "from tensorflow.keras.models import Sequential\n",
        "from tensorflow.keras.layers import Dense, Dropout\n",
        "from tensorflow.keras.optimizers import Adam\n",
        "from tensorflow.keras.callbacks import EarlyStopping\n",
        "from tensorflow.keras.regularizers import l2\n",
        "\n",
        "from kerastuner.tuners import RandomSearch\n",
        "import kerastuner as kt"
      ]
    },
    {
      "cell_type": "code",
      "execution_count": null,
      "metadata": {
        "colab": {
          "base_uri": "https://localhost:8080/"
        },
        "id": "GtL3fyKok1hU",
        "outputId": "07d55fc9-ee26-4d3e-d8de-363f1c20525c"
      },
      "outputs": [
        {
          "output_type": "stream",
          "name": "stdout",
          "text": [
            "Drive already mounted at /content/drive; to attempt to forcibly remount, call drive.mount(\"/content/drive\", force_remount=True).\n"
          ]
        }
      ],
      "source": [
        "drive.mount('/content/drive')"
      ]
    },
    {
      "cell_type": "markdown",
      "metadata": {
        "id": "rKTpdWET17Kq"
      },
      "source": [
        "## Definición de columnas"
      ]
    },
    {
      "cell_type": "code",
      "execution_count": null,
      "metadata": {
        "id": "1U5gUcMNzbK2"
      },
      "outputs": [],
      "source": [
        "column_mappings_json = {\n",
        "    'URL': 'url',\n",
        "    'Color': 'color',\n",
        "    'Fuel Type': 'fuelType',\n",
        "    'Fuel Type ID': 'fuelTypeId',\n",
        "    'ID': 'id',\n",
        "    'KM': 'km',\n",
        "    'Make': 'make',\n",
        "    'Make ID': 'makeId',\n",
        "    'Model': 'model',\n",
        "    'Model ID': 'model_id',\n",
        "    'Price': 'price',\n",
        "    'Province': 'province',\n",
        "    'Province ID': 'provinceId',\n",
        "    'Year': 'year',\n",
        "    'Horsepower': 'hp',\n",
        "    'Title': 'title',\n",
        "    'Transmission Type': 'transmissionType',\n",
        "    'Transmission Type ID': 'transmissionTypeId',\n",
        "    'Brand': 'brand',\n",
        "    'Brand ID': 'brand_id',\n",
        "    'Fuel Types': 'fuel_types',\n",
        "    'Seller Type': 'seller_type',\n",
        "    'Body Type': 'bodyType',\n",
        "    'Cubic Capacity': 'cubicCapacity',\n",
        "    'Doors': 'doors',\n",
        "}"
      ]
    },
    {
      "cell_type": "code",
      "source": [
        "column_mappings_json_v2 = {\n",
        "    'URL': 'url',\n",
        "    'Color': 'color',\n",
        "    'Fuel Type': 'fuelType',\n",
        "    'Fuel Type ID': 'fuelTypeId',\n",
        "    'ID': 'id',\n",
        "    'KM': 'km',\n",
        "    'Make': 'make',\n",
        "    'Make ID': 'makeId',\n",
        "    'Model': 'model',\n",
        "    'Model ID': 'model_id',\n",
        "    'Price': 'price',\n",
        "    'Province': 'province',\n",
        "    'Province ID': 'provinceId',\n",
        "    'Year': 'year',\n",
        "    'Horsepower': 'hp',\n",
        "    'Title': 'title',\n",
        "    'Transmission Type': 'transmissionType',\n",
        "    'Transmission Type ID': 'transmissionTypeId',\n",
        "    'Brand': 'brand',\n",
        "    'Brand ID': 'brand_id',\n",
        "    'Fuel Types': 'fuel_types',\n",
        "    'Seller Type': 'seller_type',\n",
        "    'Body Type': 'bodyType',\n",
        "    'Cubic Capacity': 'cubicCapacity',\n",
        "    'Doors': 'doors',\n",
        "}"
      ],
      "metadata": {
        "id": "0hR4zJ0xvFLT"
      },
      "execution_count": null,
      "outputs": []
    },
    {
      "cell_type": "code",
      "execution_count": null,
      "metadata": {
        "id": "3Kao3PolRqqp"
      },
      "outputs": [],
      "source": [
        "column_mappings_csv_v1 = {\n",
        "    'url': 'URL',\n",
        "    'color': 'Color',\n",
        "    'fuelType': 'Fuel Type',\n",
        "    'fuelTypeId': 'Fuel Type ID',\n",
        "    'id': 'ID',\n",
        "    'km': 'KM',\n",
        "    'make': 'Make',\n",
        "    'makeId': 'Make ID',\n",
        "    'model': 'Model',\n",
        "    'modelId': 'Model ID',\n",
        "    'price': 'Price',\n",
        "    'province': 'Province',\n",
        "    'provinceId': 'Province ID',\n",
        "    'year': 'Year',\n",
        "    'hp': 'Horsepower',\n",
        "    'title': 'Title',\n",
        "    'transmissionType': 'Transmission Type',\n",
        "    'transmissionTypeId': 'Transmission Type ID',\n",
        "    'make': 'Brand',\n",
        "    'makeId': 'Brand ID',\n",
        "    'fuelType': 'Fuel Types',\n",
        "    'seller_type': 'Seller Type',\n",
        "    'body_types': 'Body Type',\n",
        "    'cubicCapacity': 'Cubic Capacity',\n",
        "    'doors': 'Doors',\n",
        "}"
      ]
    },
    {
      "cell_type": "code",
      "execution_count": null,
      "metadata": {
        "id": "EMZaKMPIZwWo"
      },
      "outputs": [],
      "source": [
        "column_mappings_csv_v2 = {\n",
        "    'url': 'URL',\n",
        "    'color': 'Color',\n",
        "    'fuelType': 'Fuel Type',\n",
        "    'fuelTypeId': 'Fuel Type ID',\n",
        "    'id': 'ID',\n",
        "    'km': 'KM',\n",
        "    'make': 'Make',\n",
        "    'makeId': 'Make ID',\n",
        "    'model': 'Model',\n",
        "    'modelId': 'Model ID',\n",
        "    'price': 'Price',\n",
        "    'province': 'Province',\n",
        "    'provinceId': 'Province ID',\n",
        "    'year': 'Year',\n",
        "    'hp': 'Horsepower',\n",
        "    'title': 'Title',\n",
        "    'transmissionType': 'Transmission Type',\n",
        "    'transmissionTypeId': 'Transmission Type ID',\n",
        "    'make': 'Brand',\n",
        "    'makeId': 'Brand ID',\n",
        "    'fuelType': 'Fuel Types',\n",
        "    'seller_type': 'Seller Type',\n",
        "    'bodyType': 'Body Type',\n",
        "    'cubicCapacity': 'Cubic Capacity',\n",
        "    'doors': 'Doors',\n",
        "}"
      ]
    },
    {
      "cell_type": "code",
      "execution_count": null,
      "metadata": {
        "id": "vhH7cc43ma35"
      },
      "outputs": [],
      "source": [
        "def open_json_data(filename, removeFirstItemsCount = 0, property_to_spread = ''):\n",
        "  with open(f'drive/MyDrive/Colab Notebooks/datos/{filename}.json', 'r') as file:\n",
        "    data = json.load(file)\n",
        "\n",
        "  for i in range(0, removeFirstItemsCount):\n",
        "    data.pop(0)\n",
        "\n",
        "  if property_to_spread != '':\n",
        "    for i, item in enumerate(data):\n",
        "      resto_de_datos = item.pop(property_to_spread)\n",
        "      data[i] = {**item, **resto_de_datos}\n",
        "\n",
        "  return data"
      ]
    },
    {
      "cell_type": "code",
      "execution_count": null,
      "metadata": {
        "id": "WMBZPL5DuoSc"
      },
      "outputs": [],
      "source": [
        "def add_data_to_dataframe(data, df, column_mappings):\n",
        "    new_data = []\n",
        "\n",
        "    for item in data:\n",
        "        row = {column: item[property_name] for column, property_name in column_mappings.items()}\n",
        "        new_data.append(row)\n",
        "\n",
        "    return df.append(pd.DataFrame(new_data), ignore_index=True)"
      ]
    },
    {
      "cell_type": "code",
      "execution_count": null,
      "metadata": {
        "id": "UmWTt9IVRh7K"
      },
      "outputs": [],
      "source": [
        "def read_csv_and_convert_to_json(filename, column_mappings):\n",
        "    df = pd.read_csv(f'drive/MyDrive/Colab Notebooks/datos/{filename}.csv')\n",
        "\n",
        "    # Filtrar solo las columnas presentes en el mapeo\n",
        "    df = df.filter(items=column_mappings.keys())\n",
        "\n",
        "    # Renombrar las columnas del DataFrame según el mapeo proporcionado\n",
        "    df.rename(columns=column_mappings, inplace=True)\n",
        "\n",
        "    # Convertir el DataFrame a JSON\n",
        "    json_data = df.to_dict(orient='records')\n",
        "\n",
        "    return json_data\n"
      ]
    },
    {
      "cell_type": "markdown",
      "metadata": {
        "id": "EDlN6O0bznn1"
      },
      "source": [
        "### Carga de datos"
      ]
    },
    {
      "cell_type": "code",
      "execution_count": null,
      "metadata": {
        "id": "sman4un-vzzI"
      },
      "outputs": [],
      "source": [
        "# Crear df inicial\n",
        "df = pd.DataFrame(columns=column_mappings_json.keys())"
      ]
    },
    {
      "cell_type": "code",
      "execution_count": null,
      "metadata": {
        "colab": {
          "base_uri": "https://localhost:8080/"
        },
        "id": "OzDPlOoCleL-",
        "outputId": "aee9739f-450e-47f9-d6a3-7656c9c5bd4a"
      },
      "outputs": [
        {
          "output_type": "stream",
          "name": "stderr",
          "text": [
            "<ipython-input-10-e955a6294dcf>:8: FutureWarning: The frame.append method is deprecated and will be removed from pandas in a future version. Use pandas.concat instead.\n",
            "  return df.append(pd.DataFrame(new_data), ignore_index=True)\n"
          ]
        }
      ],
      "source": [
        "# Abrir datos Adrian\n",
        "datosAdrian = open_json_data('datosAdrian', 2, 'resto_de_datos')\n",
        "# Añadiendo datos Adrian al DataFrame\n",
        "df = add_data_to_dataframe(datosAdrian, df, column_mappings_json)"
      ]
    },
    {
      "cell_type": "code",
      "execution_count": null,
      "metadata": {
        "colab": {
          "base_uri": "https://localhost:8080/"
        },
        "id": "u-J1dAc0zwrS",
        "outputId": "49f3f8dd-ad38-49d6-9b82-92d8c18f30b3"
      },
      "outputs": [
        {
          "output_type": "stream",
          "name": "stderr",
          "text": [
            "<ipython-input-10-e955a6294dcf>:8: FutureWarning: The frame.append method is deprecated and will be removed from pandas in a future version. Use pandas.concat instead.\n",
            "  return df.append(pd.DataFrame(new_data), ignore_index=True)\n"
          ]
        }
      ],
      "source": [
        "# Abrir datos Sergio\n",
        "datosSergio = open_json_data('datosSergio', 0, 'resto_de_datos')\n",
        "# Añadiendo datos Sergio al DataFrame\n",
        "df = add_data_to_dataframe(datosSergio, df, column_mappings_json)"
      ]
    },
    {
      "cell_type": "code",
      "execution_count": null,
      "metadata": {
        "colab": {
          "base_uri": "https://localhost:8080/"
        },
        "id": "t-81Kzi8zwo5",
        "outputId": "bce57127-3e83-4827-bb1b-49393fe4554a"
      },
      "outputs": [
        {
          "output_type": "stream",
          "name": "stderr",
          "text": [
            "<ipython-input-10-e955a6294dcf>:8: FutureWarning: The frame.append method is deprecated and will be removed from pandas in a future version. Use pandas.concat instead.\n",
            "  return df.append(pd.DataFrame(new_data), ignore_index=True)\n"
          ]
        }
      ],
      "source": [
        "# Abrir datos Aitor\n",
        "datosAitor = open_json_data('datosAitor', 0, 'resto_de_datos')\n",
        "# Añadiendo datos Aitor al DataFrame\n",
        "df = add_data_to_dataframe(datosAitor, df, column_mappings_json)"
      ]
    },
    {
      "cell_type": "code",
      "execution_count": null,
      "metadata": {
        "colab": {
          "base_uri": "https://localhost:8080/"
        },
        "id": "gy5gHq1pzwkc",
        "outputId": "a53ec90c-7cf6-4601-9825-c3c10d2ea14d"
      },
      "outputs": [
        {
          "output_type": "stream",
          "name": "stderr",
          "text": [
            "<ipython-input-10-e955a6294dcf>:8: FutureWarning: The frame.append method is deprecated and will be removed from pandas in a future version. Use pandas.concat instead.\n",
            "  return df.append(pd.DataFrame(new_data), ignore_index=True)\n"
          ]
        }
      ],
      "source": [
        "# Abrir datos Daniel\n",
        "datosDaniel = open_json_data('datosDaniel', 0, 'resto_de_datos')\n",
        "# Añadiendo datos Daniel al DataFrame\n",
        "df = add_data_to_dataframe(datosDaniel, df, column_mappings_json)"
      ]
    },
    {
      "cell_type": "code",
      "execution_count": null,
      "metadata": {
        "colab": {
          "base_uri": "https://localhost:8080/"
        },
        "id": "wOoYEBb9zwa2",
        "outputId": "9dad0965-9c3f-4757-ee61-22fc298625ce"
      },
      "outputs": [
        {
          "output_type": "stream",
          "name": "stderr",
          "text": [
            "<ipython-input-10-e955a6294dcf>:8: FutureWarning: The frame.append method is deprecated and will be removed from pandas in a future version. Use pandas.concat instead.\n",
            "  return df.append(pd.DataFrame(new_data), ignore_index=True)\n"
          ]
        }
      ],
      "source": [
        "# Abrir datos Steven\n",
        "datosSteven = open_json_data('datosSteven')\n",
        "# Añadiendo datos Steven al DataFrame\n",
        "df = add_data_to_dataframe(datosSteven, df, column_mappings_json)"
      ]
    },
    {
      "cell_type": "code",
      "execution_count": null,
      "metadata": {
        "colab": {
          "base_uri": "https://localhost:8080/"
        },
        "id": "ym9IWGEkKzpY",
        "outputId": "db78e8d3-9807-4e16-c978-84d337efb535"
      },
      "outputs": [
        {
          "output_type": "stream",
          "name": "stderr",
          "text": [
            "<ipython-input-10-e955a6294dcf>:8: FutureWarning: The frame.append method is deprecated and will be removed from pandas in a future version. Use pandas.concat instead.\n",
            "  return df.append(pd.DataFrame(new_data), ignore_index=True)\n"
          ]
        }
      ],
      "source": [
        "# Abrir datos Juampe\n",
        "datosJuampe = open_json_data('datosJuampe', 0, 'resto_de_datos')\n",
        "# Añadiendo datos Juampe al DataFrame\n",
        "df = add_data_to_dataframe(datosJuampe, df, column_mappings_json)"
      ]
    },
    {
      "cell_type": "code",
      "execution_count": null,
      "metadata": {
        "colab": {
          "base_uri": "https://localhost:8080/"
        },
        "id": "gHF6Sq8PKznR",
        "outputId": "4d08b274-ffce-4a17-d78f-e7b7ed236bc4"
      },
      "outputs": [
        {
          "output_type": "stream",
          "name": "stderr",
          "text": [
            "<ipython-input-10-e955a6294dcf>:8: FutureWarning: The frame.append method is deprecated and will be removed from pandas in a future version. Use pandas.concat instead.\n",
            "  return df.append(pd.DataFrame(new_data), ignore_index=True)\n"
          ]
        }
      ],
      "source": [
        "# Abrir datos Alberto\n",
        "datosAlberto = open_json_data('datosAlberto', 0, 'resto_de_datos')\n",
        "# Añadiendo datos Alberto al DataFrame\n",
        "df = add_data_to_dataframe(datosAlberto, df, column_mappings_json)"
      ]
    },
    {
      "cell_type": "code",
      "execution_count": null,
      "metadata": {
        "colab": {
          "base_uri": "https://localhost:8080/"
        },
        "id": "rl4V-jOWKzlI",
        "outputId": "46ef35c7-79dd-48ce-b74e-ec0d4a1a7c5e"
      },
      "outputs": [
        {
          "output_type": "stream",
          "name": "stderr",
          "text": [
            "<ipython-input-10-e955a6294dcf>:8: FutureWarning: The frame.append method is deprecated and will be removed from pandas in a future version. Use pandas.concat instead.\n",
            "  return df.append(pd.DataFrame(new_data), ignore_index=True)\n"
          ]
        }
      ],
      "source": [
        "# Abrir datos Sergio Lapaz\n",
        "datosSergioLapaz = open_json_data('datosSergioLapaz')\n",
        "# Añadiendo datos Sergio Lapaz al DataFrame\n",
        "df = add_data_to_dataframe(datosSergioLapaz, df, column_mappings_json)"
      ]
    },
    {
      "cell_type": "code",
      "execution_count": null,
      "metadata": {
        "colab": {
          "base_uri": "https://localhost:8080/"
        },
        "id": "shn9Zb6IMQeN",
        "outputId": "be19d169-1689-4aff-8ef9-276e83d6d934"
      },
      "outputs": [
        {
          "output_type": "stream",
          "name": "stderr",
          "text": [
            "<ipython-input-10-e955a6294dcf>:8: FutureWarning: The frame.append method is deprecated and will be removed from pandas in a future version. Use pandas.concat instead.\n",
            "  return df.append(pd.DataFrame(new_data), ignore_index=True)\n"
          ]
        }
      ],
      "source": [
        "# Abrir datos Emilio\n",
        "datosEmilio = open_json_data('datosEmilio', 0, 'resto_de_datos')\n",
        "# Añadiendo datos Emilio al DataFrame\n",
        "df = add_data_to_dataframe(datosEmilio, df, column_mappings_json)"
      ]
    },
    {
      "cell_type": "code",
      "execution_count": null,
      "metadata": {
        "colab": {
          "base_uri": "https://localhost:8080/"
        },
        "outputId": "0c4c199c-da01-408b-d48a-50732ce580d9",
        "id": "fCUonzb2uNJb"
      },
      "outputs": [
        {
          "output_type": "stream",
          "name": "stderr",
          "text": [
            "<ipython-input-10-e955a6294dcf>:8: FutureWarning: The frame.append method is deprecated and will be removed from pandas in a future version. Use pandas.concat instead.\n",
            "  return df.append(pd.DataFrame(new_data), ignore_index=True)\n"
          ]
        }
      ],
      "source": [
        "# Abrir datos Jose\n",
        "datosJose = open_json_data('datosJose')\n",
        "for item in datosJose:\n",
        "    try:\n",
        "      item['km'] = int(item['km'])\n",
        "    except:\n",
        "      pass\n",
        "    try:\n",
        "      item['price'] = int(item['price'])\n",
        "    except:\n",
        "      pass\n",
        "    try:\n",
        "      item['year'] = int(item['year'])\n",
        "    except:\n",
        "      pass\n",
        "    try:\n",
        "      item['hp'] = int(item['hp'])\n",
        "    except:\n",
        "      pass\n",
        "    try:\n",
        "      item['cubicCapacity'] = int(item['cubicCapacity'])\n",
        "    except:\n",
        "      pass\n",
        "    try:\n",
        "      item['modelId'] = int(item['modelId'])\n",
        "    except:\n",
        "      pass\n",
        "    try:\n",
        "      item['doors'] = int(item['doors'])\n",
        "    except:\n",
        "      pass\n",
        "\n",
        "# Añadiendo datos Jose al DataFrame\n",
        "df = add_data_to_dataframe(datosJose, df, column_mappings_json_v2)"
      ]
    },
    {
      "cell_type": "code",
      "execution_count": null,
      "metadata": {
        "colab": {
          "base_uri": "https://localhost:8080/"
        },
        "id": "K4YFRT98Z68r",
        "outputId": "05af2089-2768-48a7-b73f-14d2099c1c00"
      },
      "outputs": [
        {
          "output_type": "stream",
          "name": "stderr",
          "text": [
            "<ipython-input-23-34143baa95f5>:3: FutureWarning: The frame.append method is deprecated and will be removed from pandas in a future version. Use pandas.concat instead.\n",
            "  df = df.append(pd.DataFrame(json_data), ignore_index=True)\n"
          ]
        }
      ],
      "source": [
        "json_data = read_csv_and_convert_to_json('datosAdonais', column_mappings_csv_v2)\n",
        "\n",
        "df = df.append(pd.DataFrame(json_data), ignore_index=True)"
      ]
    },
    {
      "cell_type": "markdown",
      "metadata": {
        "id": "SbJxx0-lqqia"
      },
      "source": [
        "#### Eliminar registros duplicados"
      ]
    },
    {
      "cell_type": "code",
      "execution_count": null,
      "metadata": {
        "colab": {
          "base_uri": "https://localhost:8080/",
          "height": 300
        },
        "id": "zmqLkWmFqwkc",
        "outputId": "20324b80-46f9-42b3-c395-875db1b16ac0"
      },
      "outputs": [
        {
          "output_type": "execute_result",
          "data": {
            "text/plain": [
              "         Horsepower  Cubic Capacity         Doors\n",
              "count  12131.000000    11927.000000  12316.000000\n",
              "mean     146.550655     1645.442861      4.786375\n",
              "std       76.738726      551.866203      0.619021\n",
              "min       60.000000      875.000000      2.000000\n",
              "25%      110.000000     1332.000000      5.000000\n",
              "50%      130.000000     1560.000000      5.000000\n",
              "75%      150.000000     1968.000000      5.000000\n",
              "max      800.000000     6496.000000      5.000000"
            ],
            "text/html": [
              "\n",
              "  <div id=\"df-d560aa73-77b4-4b7c-bce0-3202b2300510\">\n",
              "    <div class=\"colab-df-container\">\n",
              "      <div>\n",
              "<style scoped>\n",
              "    .dataframe tbody tr th:only-of-type {\n",
              "        vertical-align: middle;\n",
              "    }\n",
              "\n",
              "    .dataframe tbody tr th {\n",
              "        vertical-align: top;\n",
              "    }\n",
              "\n",
              "    .dataframe thead th {\n",
              "        text-align: right;\n",
              "    }\n",
              "</style>\n",
              "<table border=\"1\" class=\"dataframe\">\n",
              "  <thead>\n",
              "    <tr style=\"text-align: right;\">\n",
              "      <th></th>\n",
              "      <th>Horsepower</th>\n",
              "      <th>Cubic Capacity</th>\n",
              "      <th>Doors</th>\n",
              "    </tr>\n",
              "  </thead>\n",
              "  <tbody>\n",
              "    <tr>\n",
              "      <th>count</th>\n",
              "      <td>12131.000000</td>\n",
              "      <td>11927.000000</td>\n",
              "      <td>12316.000000</td>\n",
              "    </tr>\n",
              "    <tr>\n",
              "      <th>mean</th>\n",
              "      <td>146.550655</td>\n",
              "      <td>1645.442861</td>\n",
              "      <td>4.786375</td>\n",
              "    </tr>\n",
              "    <tr>\n",
              "      <th>std</th>\n",
              "      <td>76.738726</td>\n",
              "      <td>551.866203</td>\n",
              "      <td>0.619021</td>\n",
              "    </tr>\n",
              "    <tr>\n",
              "      <th>min</th>\n",
              "      <td>60.000000</td>\n",
              "      <td>875.000000</td>\n",
              "      <td>2.000000</td>\n",
              "    </tr>\n",
              "    <tr>\n",
              "      <th>25%</th>\n",
              "      <td>110.000000</td>\n",
              "      <td>1332.000000</td>\n",
              "      <td>5.000000</td>\n",
              "    </tr>\n",
              "    <tr>\n",
              "      <th>50%</th>\n",
              "      <td>130.000000</td>\n",
              "      <td>1560.000000</td>\n",
              "      <td>5.000000</td>\n",
              "    </tr>\n",
              "    <tr>\n",
              "      <th>75%</th>\n",
              "      <td>150.000000</td>\n",
              "      <td>1968.000000</td>\n",
              "      <td>5.000000</td>\n",
              "    </tr>\n",
              "    <tr>\n",
              "      <th>max</th>\n",
              "      <td>800.000000</td>\n",
              "      <td>6496.000000</td>\n",
              "      <td>5.000000</td>\n",
              "    </tr>\n",
              "  </tbody>\n",
              "</table>\n",
              "</div>\n",
              "      <button class=\"colab-df-convert\" onclick=\"convertToInteractive('df-d560aa73-77b4-4b7c-bce0-3202b2300510')\"\n",
              "              title=\"Convert this dataframe to an interactive table.\"\n",
              "              style=\"display:none;\">\n",
              "        \n",
              "  <svg xmlns=\"http://www.w3.org/2000/svg\" height=\"24px\"viewBox=\"0 0 24 24\"\n",
              "       width=\"24px\">\n",
              "    <path d=\"M0 0h24v24H0V0z\" fill=\"none\"/>\n",
              "    <path d=\"M18.56 5.44l.94 2.06.94-2.06 2.06-.94-2.06-.94-.94-2.06-.94 2.06-2.06.94zm-11 1L8.5 8.5l.94-2.06 2.06-.94-2.06-.94L8.5 2.5l-.94 2.06-2.06.94zm10 10l.94 2.06.94-2.06 2.06-.94-2.06-.94-.94-2.06-.94 2.06-2.06.94z\"/><path d=\"M17.41 7.96l-1.37-1.37c-.4-.4-.92-.59-1.43-.59-.52 0-1.04.2-1.43.59L10.3 9.45l-7.72 7.72c-.78.78-.78 2.05 0 2.83L4 21.41c.39.39.9.59 1.41.59.51 0 1.02-.2 1.41-.59l7.78-7.78 2.81-2.81c.8-.78.8-2.07 0-2.86zM5.41 20L4 18.59l7.72-7.72 1.47 1.35L5.41 20z\"/>\n",
              "  </svg>\n",
              "      </button>\n",
              "      \n",
              "  <style>\n",
              "    .colab-df-container {\n",
              "      display:flex;\n",
              "      flex-wrap:wrap;\n",
              "      gap: 12px;\n",
              "    }\n",
              "\n",
              "    .colab-df-convert {\n",
              "      background-color: #E8F0FE;\n",
              "      border: none;\n",
              "      border-radius: 50%;\n",
              "      cursor: pointer;\n",
              "      display: none;\n",
              "      fill: #1967D2;\n",
              "      height: 32px;\n",
              "      padding: 0 0 0 0;\n",
              "      width: 32px;\n",
              "    }\n",
              "\n",
              "    .colab-df-convert:hover {\n",
              "      background-color: #E2EBFA;\n",
              "      box-shadow: 0px 1px 2px rgba(60, 64, 67, 0.3), 0px 1px 3px 1px rgba(60, 64, 67, 0.15);\n",
              "      fill: #174EA6;\n",
              "    }\n",
              "\n",
              "    [theme=dark] .colab-df-convert {\n",
              "      background-color: #3B4455;\n",
              "      fill: #D2E3FC;\n",
              "    }\n",
              "\n",
              "    [theme=dark] .colab-df-convert:hover {\n",
              "      background-color: #434B5C;\n",
              "      box-shadow: 0px 1px 3px 1px rgba(0, 0, 0, 0.15);\n",
              "      filter: drop-shadow(0px 1px 2px rgba(0, 0, 0, 0.3));\n",
              "      fill: #FFFFFF;\n",
              "    }\n",
              "  </style>\n",
              "\n",
              "      <script>\n",
              "        const buttonEl =\n",
              "          document.querySelector('#df-d560aa73-77b4-4b7c-bce0-3202b2300510 button.colab-df-convert');\n",
              "        buttonEl.style.display =\n",
              "          google.colab.kernel.accessAllowed ? 'block' : 'none';\n",
              "\n",
              "        async function convertToInteractive(key) {\n",
              "          const element = document.querySelector('#df-d560aa73-77b4-4b7c-bce0-3202b2300510');\n",
              "          const dataTable =\n",
              "            await google.colab.kernel.invokeFunction('convertToInteractive',\n",
              "                                                     [key], {});\n",
              "          if (!dataTable) return;\n",
              "\n",
              "          const docLinkHtml = 'Like what you see? Visit the ' +\n",
              "            '<a target=\"_blank\" href=https://colab.research.google.com/notebooks/data_table.ipynb>data table notebook</a>'\n",
              "            + ' to learn more about interactive tables.';\n",
              "          element.innerHTML = '';\n",
              "          dataTable['output_type'] = 'display_data';\n",
              "          await google.colab.output.renderOutput(dataTable, element);\n",
              "          const docLink = document.createElement('div');\n",
              "          docLink.innerHTML = docLinkHtml;\n",
              "          element.appendChild(docLink);\n",
              "        }\n",
              "      </script>\n",
              "    </div>\n",
              "  </div>\n",
              "  "
            ]
          },
          "metadata": {},
          "execution_count": 24
        }
      ],
      "source": [
        "df.describe()"
      ]
    },
    {
      "cell_type": "code",
      "execution_count": null,
      "metadata": {
        "id": "4lJ1_-y4bF_O"
      },
      "outputs": [],
      "source": [
        "df = df.drop_duplicates(subset='ID', keep='first')"
      ]
    },
    {
      "cell_type": "code",
      "execution_count": null,
      "metadata": {
        "colab": {
          "base_uri": "https://localhost:8080/",
          "height": 300
        },
        "id": "JRBDCO9dbF9C",
        "outputId": "32734f38-34c7-4211-a648-1c868727d581"
      },
      "outputs": [
        {
          "output_type": "execute_result",
          "data": {
            "text/plain": [
              "         Horsepower  Cubic Capacity         Doors\n",
              "count  11023.000000    10835.000000  11198.000000\n",
              "mean     147.002087     1648.811998      4.779336\n",
              "std       77.998184      558.049840      0.628698\n",
              "min       60.000000      875.000000      2.000000\n",
              "25%      110.000000     1332.000000      5.000000\n",
              "50%      130.000000     1560.000000      5.000000\n",
              "75%      150.000000     1968.000000      5.000000\n",
              "max      800.000000     6496.000000      5.000000"
            ],
            "text/html": [
              "\n",
              "  <div id=\"df-9db50199-29d2-46ba-ac30-0986e4b4af4b\">\n",
              "    <div class=\"colab-df-container\">\n",
              "      <div>\n",
              "<style scoped>\n",
              "    .dataframe tbody tr th:only-of-type {\n",
              "        vertical-align: middle;\n",
              "    }\n",
              "\n",
              "    .dataframe tbody tr th {\n",
              "        vertical-align: top;\n",
              "    }\n",
              "\n",
              "    .dataframe thead th {\n",
              "        text-align: right;\n",
              "    }\n",
              "</style>\n",
              "<table border=\"1\" class=\"dataframe\">\n",
              "  <thead>\n",
              "    <tr style=\"text-align: right;\">\n",
              "      <th></th>\n",
              "      <th>Horsepower</th>\n",
              "      <th>Cubic Capacity</th>\n",
              "      <th>Doors</th>\n",
              "    </tr>\n",
              "  </thead>\n",
              "  <tbody>\n",
              "    <tr>\n",
              "      <th>count</th>\n",
              "      <td>11023.000000</td>\n",
              "      <td>10835.000000</td>\n",
              "      <td>11198.000000</td>\n",
              "    </tr>\n",
              "    <tr>\n",
              "      <th>mean</th>\n",
              "      <td>147.002087</td>\n",
              "      <td>1648.811998</td>\n",
              "      <td>4.779336</td>\n",
              "    </tr>\n",
              "    <tr>\n",
              "      <th>std</th>\n",
              "      <td>77.998184</td>\n",
              "      <td>558.049840</td>\n",
              "      <td>0.628698</td>\n",
              "    </tr>\n",
              "    <tr>\n",
              "      <th>min</th>\n",
              "      <td>60.000000</td>\n",
              "      <td>875.000000</td>\n",
              "      <td>2.000000</td>\n",
              "    </tr>\n",
              "    <tr>\n",
              "      <th>25%</th>\n",
              "      <td>110.000000</td>\n",
              "      <td>1332.000000</td>\n",
              "      <td>5.000000</td>\n",
              "    </tr>\n",
              "    <tr>\n",
              "      <th>50%</th>\n",
              "      <td>130.000000</td>\n",
              "      <td>1560.000000</td>\n",
              "      <td>5.000000</td>\n",
              "    </tr>\n",
              "    <tr>\n",
              "      <th>75%</th>\n",
              "      <td>150.000000</td>\n",
              "      <td>1968.000000</td>\n",
              "      <td>5.000000</td>\n",
              "    </tr>\n",
              "    <tr>\n",
              "      <th>max</th>\n",
              "      <td>800.000000</td>\n",
              "      <td>6496.000000</td>\n",
              "      <td>5.000000</td>\n",
              "    </tr>\n",
              "  </tbody>\n",
              "</table>\n",
              "</div>\n",
              "      <button class=\"colab-df-convert\" onclick=\"convertToInteractive('df-9db50199-29d2-46ba-ac30-0986e4b4af4b')\"\n",
              "              title=\"Convert this dataframe to an interactive table.\"\n",
              "              style=\"display:none;\">\n",
              "        \n",
              "  <svg xmlns=\"http://www.w3.org/2000/svg\" height=\"24px\"viewBox=\"0 0 24 24\"\n",
              "       width=\"24px\">\n",
              "    <path d=\"M0 0h24v24H0V0z\" fill=\"none\"/>\n",
              "    <path d=\"M18.56 5.44l.94 2.06.94-2.06 2.06-.94-2.06-.94-.94-2.06-.94 2.06-2.06.94zm-11 1L8.5 8.5l.94-2.06 2.06-.94-2.06-.94L8.5 2.5l-.94 2.06-2.06.94zm10 10l.94 2.06.94-2.06 2.06-.94-2.06-.94-.94-2.06-.94 2.06-2.06.94z\"/><path d=\"M17.41 7.96l-1.37-1.37c-.4-.4-.92-.59-1.43-.59-.52 0-1.04.2-1.43.59L10.3 9.45l-7.72 7.72c-.78.78-.78 2.05 0 2.83L4 21.41c.39.39.9.59 1.41.59.51 0 1.02-.2 1.41-.59l7.78-7.78 2.81-2.81c.8-.78.8-2.07 0-2.86zM5.41 20L4 18.59l7.72-7.72 1.47 1.35L5.41 20z\"/>\n",
              "  </svg>\n",
              "      </button>\n",
              "      \n",
              "  <style>\n",
              "    .colab-df-container {\n",
              "      display:flex;\n",
              "      flex-wrap:wrap;\n",
              "      gap: 12px;\n",
              "    }\n",
              "\n",
              "    .colab-df-convert {\n",
              "      background-color: #E8F0FE;\n",
              "      border: none;\n",
              "      border-radius: 50%;\n",
              "      cursor: pointer;\n",
              "      display: none;\n",
              "      fill: #1967D2;\n",
              "      height: 32px;\n",
              "      padding: 0 0 0 0;\n",
              "      width: 32px;\n",
              "    }\n",
              "\n",
              "    .colab-df-convert:hover {\n",
              "      background-color: #E2EBFA;\n",
              "      box-shadow: 0px 1px 2px rgba(60, 64, 67, 0.3), 0px 1px 3px 1px rgba(60, 64, 67, 0.15);\n",
              "      fill: #174EA6;\n",
              "    }\n",
              "\n",
              "    [theme=dark] .colab-df-convert {\n",
              "      background-color: #3B4455;\n",
              "      fill: #D2E3FC;\n",
              "    }\n",
              "\n",
              "    [theme=dark] .colab-df-convert:hover {\n",
              "      background-color: #434B5C;\n",
              "      box-shadow: 0px 1px 3px 1px rgba(0, 0, 0, 0.15);\n",
              "      filter: drop-shadow(0px 1px 2px rgba(0, 0, 0, 0.3));\n",
              "      fill: #FFFFFF;\n",
              "    }\n",
              "  </style>\n",
              "\n",
              "      <script>\n",
              "        const buttonEl =\n",
              "          document.querySelector('#df-9db50199-29d2-46ba-ac30-0986e4b4af4b button.colab-df-convert');\n",
              "        buttonEl.style.display =\n",
              "          google.colab.kernel.accessAllowed ? 'block' : 'none';\n",
              "\n",
              "        async function convertToInteractive(key) {\n",
              "          const element = document.querySelector('#df-9db50199-29d2-46ba-ac30-0986e4b4af4b');\n",
              "          const dataTable =\n",
              "            await google.colab.kernel.invokeFunction('convertToInteractive',\n",
              "                                                     [key], {});\n",
              "          if (!dataTable) return;\n",
              "\n",
              "          const docLinkHtml = 'Like what you see? Visit the ' +\n",
              "            '<a target=\"_blank\" href=https://colab.research.google.com/notebooks/data_table.ipynb>data table notebook</a>'\n",
              "            + ' to learn more about interactive tables.';\n",
              "          element.innerHTML = '';\n",
              "          dataTable['output_type'] = 'display_data';\n",
              "          await google.colab.output.renderOutput(dataTable, element);\n",
              "          const docLink = document.createElement('div');\n",
              "          docLink.innerHTML = docLinkHtml;\n",
              "          element.appendChild(docLink);\n",
              "        }\n",
              "      </script>\n",
              "    </div>\n",
              "  </div>\n",
              "  "
            ]
          },
          "metadata": {},
          "execution_count": 26
        }
      ],
      "source": [
        "df.describe()"
      ]
    },
    {
      "cell_type": "code",
      "execution_count": null,
      "metadata": {
        "id": "1tvzRJvLbwzg"
      },
      "outputs": [],
      "source": [
        "dfCopy = df.copy()"
      ]
    },
    {
      "cell_type": "code",
      "execution_count": null,
      "metadata": {
        "id": "DI-ovrrAbzvr"
      },
      "outputs": [],
      "source": [
        "df = dfCopy.copy()"
      ]
    },
    {
      "cell_type": "code",
      "execution_count": null,
      "metadata": {
        "id": "EeSLG8FdbsJ4"
      },
      "outputs": [],
      "source": [
        "df = df.drop(['URL', 'ID', 'Title', 'Brand', 'Brand ID', 'Fuel Type', 'Fuel Type ID', 'Make ID', 'Model ID', 'Transmission Type ID', 'Province ID'], axis=1)"
      ]
    },
    {
      "cell_type": "code",
      "execution_count": null,
      "metadata": {
        "colab": {
          "base_uri": "https://localhost:8080/",
          "height": 426
        },
        "id": "e_zkrg86bF3-",
        "outputId": "905f6a36-d1b3-4687-bbb8-272c622aaf16"
      },
      "outputs": [
        {
          "output_type": "execute_result",
          "data": {
            "text/plain": [
              "                Color      KM        Make               Model  Price  \\\n",
              "0  COMMON.COLOR_WHITE   13338  LAND-ROVER   Range Rover Sport  88900   \n",
              "1    COMMON.COLOR_RED  143000  LAND-ROVER  Range Rover Evoque  21000   \n",
              "2  COMMON.COLOR_BROWN   10262  LAND-ROVER            Defender  79900   \n",
              "3  COMMON.COLOR_BLACK  130000  LAND-ROVER  Range Rover Evoque  23550   \n",
              "4   COMMON.COLOR_GRAY   26728  LAND-ROVER     Discovery Sport  38400   \n",
              "\n",
              "    Province  Year  Horsepower              Transmission Type Fuel Types  \\\n",
              "0     Girona  2022       300.0  COMMON.TRANSMISSION_AUTOMATIC    Híbrido   \n",
              "1  Barcelona  2013       150.0  COMMON.TRANSMISSION_AUTOMATIC     Diésel   \n",
              "2     Madrid  2022       200.0  COMMON.TRANSMISSION_AUTOMATIC    Híbrido   \n",
              "3     Málaga  2013       240.0  COMMON.TRANSMISSION_AUTOMATIC   Gasolina   \n",
              "4  Barcelona  2019       150.0  COMMON.TRANSMISSION_AUTOMATIC    Híbrido   \n",
              "\n",
              "   Seller Type      Body Type  Cubic Capacity  Doors  \n",
              "0  profesional  BODY_TYPE_4X4          2997.0    5.0  \n",
              "1   particular  BODY_TYPE_4X4          2179.0    5.0  \n",
              "2  profesional  BODY_TYPE_4X4          2997.0    3.0  \n",
              "3   particular  BODY_TYPE_4X4          1999.0    5.0  \n",
              "4  profesional  BODY_TYPE_4X4          1999.0    5.0  "
            ],
            "text/html": [
              "\n",
              "  <div id=\"df-1329f8e4-b158-48cd-8ce8-6db3c3ec6459\">\n",
              "    <div class=\"colab-df-container\">\n",
              "      <div>\n",
              "<style scoped>\n",
              "    .dataframe tbody tr th:only-of-type {\n",
              "        vertical-align: middle;\n",
              "    }\n",
              "\n",
              "    .dataframe tbody tr th {\n",
              "        vertical-align: top;\n",
              "    }\n",
              "\n",
              "    .dataframe thead th {\n",
              "        text-align: right;\n",
              "    }\n",
              "</style>\n",
              "<table border=\"1\" class=\"dataframe\">\n",
              "  <thead>\n",
              "    <tr style=\"text-align: right;\">\n",
              "      <th></th>\n",
              "      <th>Color</th>\n",
              "      <th>KM</th>\n",
              "      <th>Make</th>\n",
              "      <th>Model</th>\n",
              "      <th>Price</th>\n",
              "      <th>Province</th>\n",
              "      <th>Year</th>\n",
              "      <th>Horsepower</th>\n",
              "      <th>Transmission Type</th>\n",
              "      <th>Fuel Types</th>\n",
              "      <th>Seller Type</th>\n",
              "      <th>Body Type</th>\n",
              "      <th>Cubic Capacity</th>\n",
              "      <th>Doors</th>\n",
              "    </tr>\n",
              "  </thead>\n",
              "  <tbody>\n",
              "    <tr>\n",
              "      <th>0</th>\n",
              "      <td>COMMON.COLOR_WHITE</td>\n",
              "      <td>13338</td>\n",
              "      <td>LAND-ROVER</td>\n",
              "      <td>Range Rover Sport</td>\n",
              "      <td>88900</td>\n",
              "      <td>Girona</td>\n",
              "      <td>2022</td>\n",
              "      <td>300.0</td>\n",
              "      <td>COMMON.TRANSMISSION_AUTOMATIC</td>\n",
              "      <td>Híbrido</td>\n",
              "      <td>profesional</td>\n",
              "      <td>BODY_TYPE_4X4</td>\n",
              "      <td>2997.0</td>\n",
              "      <td>5.0</td>\n",
              "    </tr>\n",
              "    <tr>\n",
              "      <th>1</th>\n",
              "      <td>COMMON.COLOR_RED</td>\n",
              "      <td>143000</td>\n",
              "      <td>LAND-ROVER</td>\n",
              "      <td>Range Rover Evoque</td>\n",
              "      <td>21000</td>\n",
              "      <td>Barcelona</td>\n",
              "      <td>2013</td>\n",
              "      <td>150.0</td>\n",
              "      <td>COMMON.TRANSMISSION_AUTOMATIC</td>\n",
              "      <td>Diésel</td>\n",
              "      <td>particular</td>\n",
              "      <td>BODY_TYPE_4X4</td>\n",
              "      <td>2179.0</td>\n",
              "      <td>5.0</td>\n",
              "    </tr>\n",
              "    <tr>\n",
              "      <th>2</th>\n",
              "      <td>COMMON.COLOR_BROWN</td>\n",
              "      <td>10262</td>\n",
              "      <td>LAND-ROVER</td>\n",
              "      <td>Defender</td>\n",
              "      <td>79900</td>\n",
              "      <td>Madrid</td>\n",
              "      <td>2022</td>\n",
              "      <td>200.0</td>\n",
              "      <td>COMMON.TRANSMISSION_AUTOMATIC</td>\n",
              "      <td>Híbrido</td>\n",
              "      <td>profesional</td>\n",
              "      <td>BODY_TYPE_4X4</td>\n",
              "      <td>2997.0</td>\n",
              "      <td>3.0</td>\n",
              "    </tr>\n",
              "    <tr>\n",
              "      <th>3</th>\n",
              "      <td>COMMON.COLOR_BLACK</td>\n",
              "      <td>130000</td>\n",
              "      <td>LAND-ROVER</td>\n",
              "      <td>Range Rover Evoque</td>\n",
              "      <td>23550</td>\n",
              "      <td>Málaga</td>\n",
              "      <td>2013</td>\n",
              "      <td>240.0</td>\n",
              "      <td>COMMON.TRANSMISSION_AUTOMATIC</td>\n",
              "      <td>Gasolina</td>\n",
              "      <td>particular</td>\n",
              "      <td>BODY_TYPE_4X4</td>\n",
              "      <td>1999.0</td>\n",
              "      <td>5.0</td>\n",
              "    </tr>\n",
              "    <tr>\n",
              "      <th>4</th>\n",
              "      <td>COMMON.COLOR_GRAY</td>\n",
              "      <td>26728</td>\n",
              "      <td>LAND-ROVER</td>\n",
              "      <td>Discovery Sport</td>\n",
              "      <td>38400</td>\n",
              "      <td>Barcelona</td>\n",
              "      <td>2019</td>\n",
              "      <td>150.0</td>\n",
              "      <td>COMMON.TRANSMISSION_AUTOMATIC</td>\n",
              "      <td>Híbrido</td>\n",
              "      <td>profesional</td>\n",
              "      <td>BODY_TYPE_4X4</td>\n",
              "      <td>1999.0</td>\n",
              "      <td>5.0</td>\n",
              "    </tr>\n",
              "  </tbody>\n",
              "</table>\n",
              "</div>\n",
              "      <button class=\"colab-df-convert\" onclick=\"convertToInteractive('df-1329f8e4-b158-48cd-8ce8-6db3c3ec6459')\"\n",
              "              title=\"Convert this dataframe to an interactive table.\"\n",
              "              style=\"display:none;\">\n",
              "        \n",
              "  <svg xmlns=\"http://www.w3.org/2000/svg\" height=\"24px\"viewBox=\"0 0 24 24\"\n",
              "       width=\"24px\">\n",
              "    <path d=\"M0 0h24v24H0V0z\" fill=\"none\"/>\n",
              "    <path d=\"M18.56 5.44l.94 2.06.94-2.06 2.06-.94-2.06-.94-.94-2.06-.94 2.06-2.06.94zm-11 1L8.5 8.5l.94-2.06 2.06-.94-2.06-.94L8.5 2.5l-.94 2.06-2.06.94zm10 10l.94 2.06.94-2.06 2.06-.94-2.06-.94-.94-2.06-.94 2.06-2.06.94z\"/><path d=\"M17.41 7.96l-1.37-1.37c-.4-.4-.92-.59-1.43-.59-.52 0-1.04.2-1.43.59L10.3 9.45l-7.72 7.72c-.78.78-.78 2.05 0 2.83L4 21.41c.39.39.9.59 1.41.59.51 0 1.02-.2 1.41-.59l7.78-7.78 2.81-2.81c.8-.78.8-2.07 0-2.86zM5.41 20L4 18.59l7.72-7.72 1.47 1.35L5.41 20z\"/>\n",
              "  </svg>\n",
              "      </button>\n",
              "      \n",
              "  <style>\n",
              "    .colab-df-container {\n",
              "      display:flex;\n",
              "      flex-wrap:wrap;\n",
              "      gap: 12px;\n",
              "    }\n",
              "\n",
              "    .colab-df-convert {\n",
              "      background-color: #E8F0FE;\n",
              "      border: none;\n",
              "      border-radius: 50%;\n",
              "      cursor: pointer;\n",
              "      display: none;\n",
              "      fill: #1967D2;\n",
              "      height: 32px;\n",
              "      padding: 0 0 0 0;\n",
              "      width: 32px;\n",
              "    }\n",
              "\n",
              "    .colab-df-convert:hover {\n",
              "      background-color: #E2EBFA;\n",
              "      box-shadow: 0px 1px 2px rgba(60, 64, 67, 0.3), 0px 1px 3px 1px rgba(60, 64, 67, 0.15);\n",
              "      fill: #174EA6;\n",
              "    }\n",
              "\n",
              "    [theme=dark] .colab-df-convert {\n",
              "      background-color: #3B4455;\n",
              "      fill: #D2E3FC;\n",
              "    }\n",
              "\n",
              "    [theme=dark] .colab-df-convert:hover {\n",
              "      background-color: #434B5C;\n",
              "      box-shadow: 0px 1px 3px 1px rgba(0, 0, 0, 0.15);\n",
              "      filter: drop-shadow(0px 1px 2px rgba(0, 0, 0, 0.3));\n",
              "      fill: #FFFFFF;\n",
              "    }\n",
              "  </style>\n",
              "\n",
              "      <script>\n",
              "        const buttonEl =\n",
              "          document.querySelector('#df-1329f8e4-b158-48cd-8ce8-6db3c3ec6459 button.colab-df-convert');\n",
              "        buttonEl.style.display =\n",
              "          google.colab.kernel.accessAllowed ? 'block' : 'none';\n",
              "\n",
              "        async function convertToInteractive(key) {\n",
              "          const element = document.querySelector('#df-1329f8e4-b158-48cd-8ce8-6db3c3ec6459');\n",
              "          const dataTable =\n",
              "            await google.colab.kernel.invokeFunction('convertToInteractive',\n",
              "                                                     [key], {});\n",
              "          if (!dataTable) return;\n",
              "\n",
              "          const docLinkHtml = 'Like what you see? Visit the ' +\n",
              "            '<a target=\"_blank\" href=https://colab.research.google.com/notebooks/data_table.ipynb>data table notebook</a>'\n",
              "            + ' to learn more about interactive tables.';\n",
              "          element.innerHTML = '';\n",
              "          dataTable['output_type'] = 'display_data';\n",
              "          await google.colab.output.renderOutput(dataTable, element);\n",
              "          const docLink = document.createElement('div');\n",
              "          docLink.innerHTML = docLinkHtml;\n",
              "          element.appendChild(docLink);\n",
              "        }\n",
              "      </script>\n",
              "    </div>\n",
              "  </div>\n",
              "  "
            ]
          },
          "metadata": {},
          "execution_count": 30
        }
      ],
      "source": [
        "df.head()"
      ]
    },
    {
      "cell_type": "code",
      "execution_count": null,
      "metadata": {
        "id": "sYyNrGdfp8B-"
      },
      "outputs": [],
      "source": [
        "categorical_columns = ['Color', 'Make', 'Model', 'Province', 'Transmission Type', 'Fuel Types', 'Seller Type', 'Body Type']\n",
        "numerical_columns = ['KM', 'Year']\n",
        "float_columns = ['Horsepower', 'Cubic Capacity', 'Doors']\n",
        "numerical_float_columns = ['KM', 'Year', 'Horsepower', 'Cubic Capacity', 'Doors']"
      ]
    },
    {
      "cell_type": "markdown",
      "metadata": {
        "id": "Hmo_TN7jt6Nu"
      },
      "source": [
        "#### Float columns NA or INF to average "
      ]
    },
    {
      "cell_type": "code",
      "execution_count": null,
      "metadata": {
        "id": "kbTYyxwIuLzL"
      },
      "outputs": [],
      "source": [
        "# Calcular la media de las columnas 'Horsepower', 'Cubic Capacity', 'Doors'\n",
        "mean_values = df[float_columns].mean()\n",
        "\n",
        "# Rellenar los valores NA con la media de cada columna\n",
        "df[float_columns] = df[float_columns].fillna(mean_values)\n",
        "\n",
        "# Asegurarte de que no haya valores infinitos (inf) en el DataFrame\n",
        "df.replace([np.inf, -np.inf], np.nan, inplace=True)\n",
        "\n",
        "# Si aún quedan valores NA después de reemplazar los infinitos, rellénalos con la media\n",
        "df[float_columns] = df[float_columns].fillna(mean_values)"
      ]
    },
    {
      "cell_type": "code",
      "source": [
        "df['Color'] = df['Color'].replace('BLUE', 'COMMON.COLOR_BLUE')\n",
        "df['Color'] = df['Color'].replace('RED', 'COMMON.COLOR_RED')\n",
        "df['Color'] = df['Color'].replace('GRAY', 'COMMON.COLOR_GRAY')\n",
        "df['Color'] = df['Color'].replace('WHITE', 'COMMON.COLOR_WHITE')\n",
        "df['Color'] = df['Color'].replace('BLACK', 'COMMON.COLOR_BLACK')\n",
        "df['Color'] = df['Color'].replace('YELLOW', 'COMMON.COLOR_YELLOW')\n",
        "df['Color'] = df['Color'].replace('ORANGE', 'COMMON.COLOR_ORANGE')\n",
        "df['Color'] = df['Color'].replace('BROWN', 'COMMON.COLOR_BROWN')\n",
        "df['Color'] = df['Color'].replace('GREEN', 'COMMON.COLOR_GREEN')\n",
        "df['Color'] = df['Color'].replace('GARNET', 'COMMON.COLOR_GARNET')"
      ],
      "metadata": {
        "id": "TFPcEDU5_kCz"
      },
      "execution_count": null,
      "outputs": []
    },
    {
      "cell_type": "code",
      "source": [
        "df['Province'] = df['Province'].replace('Guip\\\\u00FAzcoa', 'Guipúzcoa')\n",
        "df['Province'] = df['Province'].replace('M\\\\u00E1laga', 'Málaga')\n",
        "df['Province'] = df['Province'].replace('Almer\\\\u00EDa', 'Almería')\n",
        "df['Province'] = df['Province'].replace('\\\\u00C1lava', 'Álava')\n",
        "df['Province'] = df['Province'].replace('Castell\\\\u00F3n', 'Castellón')\n",
        "df['Province'] = df['Province'].replace('C\\\\u00E1diz', 'Cádiz')\n",
        "df['Province'] = df['Province'].replace('A Coru\\\\u00F1a', 'A Coruña')\n",
        "df['Province'] = df['Province'].replace('C\\\\u00F3rdoba', 'Córdoba')\n",
        "df['Province'] = df['Province'].replace('Le\\\\u00F3n', 'León')\n",
        "df['Province'] = df['Province'].replace('C\\\\u00E1ceres', 'Cáceres')"
      ],
      "metadata": {
        "id": "IAdN23h3_9y5"
      },
      "execution_count": null,
      "outputs": []
    },
    {
      "cell_type": "code",
      "source": [
        "df['Transmission Type'] = df['Transmission Type'].replace('AUTOMATIC', 'COMMON.TRANSMISSION_AUTOMATIC')\n",
        "df['Transmission Type'] = df['Transmission Type'].replace('MANUAL', 'COMMON.TRANSMISSION_MANUAL')"
      ],
      "metadata": {
        "id": "clc4aPfHAdR9"
      },
      "execution_count": null,
      "outputs": []
    },
    {
      "cell_type": "code",
      "source": [
        "df['Body Type'] = df['Body Type'].replace('4x4 SUV', 'BODY_TYPE_4X4')\n",
        "df['Body Type'] = df['Body Type'].replace('Berlina', 'BODY_TYPE_SEDAN')\n",
        "df['Body Type'] = df['Body Type'].replace('Familiar', 'BODY_TYPE_FAMILIAR')\n",
        "df['Body Type'] = df['Body Type'].replace('Cabrio', 'BODY_TYPE_CABRIO')\n",
        "df['Body Type'] = df['Body Type'].replace('Coupe', 'BODY_TYPE_COUPE')"
      ],
      "metadata": {
        "id": "zp_X0oTdAl6a"
      },
      "execution_count": null,
      "outputs": []
    },
    {
      "cell_type": "code",
      "source": [
        "df['Fuel Types'] = df['Fuel Types'].replace('Di\\\\u00E9sel', 'Diésel')\n",
        "df['Fuel Types'] = df['Fuel Types'].replace('El\\\\u00E9ctrico', 'Eléctrico')\n",
        "df['Fuel Types'] = df['Fuel Types'].replace('H\\\\u00EDbrido', 'Híbrido')\n",
        "df['Fuel Types'] = df['Fuel Types'].replace('H\\\\u00EDbrido enchufable', 'Híbrido enchufable')"
      ],
      "metadata": {
        "id": "-eQShaxdA-AY"
      },
      "execution_count": null,
      "outputs": []
    },
    {
      "cell_type": "markdown",
      "metadata": {
        "id": "baMe3ZRjukOE"
      },
      "source": [
        "#### Remove Rest NA rows"
      ]
    },
    {
      "cell_type": "code",
      "execution_count": null,
      "metadata": {
        "id": "imRz2jTTunRS"
      },
      "outputs": [],
      "source": [
        "# Reemplazar los valores infinitos (inf) con NA\n",
        "df.replace([np.inf, -np.inf], np.nan, inplace=True)\n",
        "\n",
        "# Eliminar las filas que contengan al menos un valor NA\n",
        "df = df.dropna()"
      ]
    },
    {
      "cell_type": "code",
      "execution_count": null,
      "metadata": {
        "colab": {
          "base_uri": "https://localhost:8080/",
          "height": 300
        },
        "id": "JhgbD1Gwutwz",
        "outputId": "8eacf35c-63b1-4775-b7a4-d8518dbbaad2"
      },
      "outputs": [
        {
          "output_type": "execute_result",
          "data": {
            "text/plain": [
              "                  KM          Price         Year   Horsepower  Cubic Capacity  \\\n",
              "count    9995.000000    9995.000000  9995.000000  9995.000000     9995.000000   \n",
              "mean    71971.413407   23648.270135  2018.260830   143.730868     1618.691467   \n",
              "std     41757.295438   19217.885868     2.366783    75.691173      532.723119   \n",
              "min     10000.000000    4000.000000  2012.000000    60.000000      875.000000   \n",
              "25%     37127.000000   14790.000000  2017.000000   105.000000     1318.000000   \n",
              "50%     66814.000000   19600.000000  2018.000000   125.000000     1499.000000   \n",
              "75%     99373.000000   26590.000000  2020.000000   150.000000     1956.000000   \n",
              "max    180000.000000  450000.000000  2022.000000   800.000000     6496.000000   \n",
              "\n",
              "             Doors  \n",
              "count  9995.000000  \n",
              "mean      4.784916  \n",
              "std       0.619541  \n",
              "min       2.000000  \n",
              "25%       5.000000  \n",
              "50%       5.000000  \n",
              "75%       5.000000  \n",
              "max       5.000000  "
            ],
            "text/html": [
              "\n",
              "  <div id=\"df-4c8e3858-bc60-485e-a547-c1297fe07d4a\">\n",
              "    <div class=\"colab-df-container\">\n",
              "      <div>\n",
              "<style scoped>\n",
              "    .dataframe tbody tr th:only-of-type {\n",
              "        vertical-align: middle;\n",
              "    }\n",
              "\n",
              "    .dataframe tbody tr th {\n",
              "        vertical-align: top;\n",
              "    }\n",
              "\n",
              "    .dataframe thead th {\n",
              "        text-align: right;\n",
              "    }\n",
              "</style>\n",
              "<table border=\"1\" class=\"dataframe\">\n",
              "  <thead>\n",
              "    <tr style=\"text-align: right;\">\n",
              "      <th></th>\n",
              "      <th>KM</th>\n",
              "      <th>Price</th>\n",
              "      <th>Year</th>\n",
              "      <th>Horsepower</th>\n",
              "      <th>Cubic Capacity</th>\n",
              "      <th>Doors</th>\n",
              "    </tr>\n",
              "  </thead>\n",
              "  <tbody>\n",
              "    <tr>\n",
              "      <th>count</th>\n",
              "      <td>9995.000000</td>\n",
              "      <td>9995.000000</td>\n",
              "      <td>9995.000000</td>\n",
              "      <td>9995.000000</td>\n",
              "      <td>9995.000000</td>\n",
              "      <td>9995.000000</td>\n",
              "    </tr>\n",
              "    <tr>\n",
              "      <th>mean</th>\n",
              "      <td>71971.413407</td>\n",
              "      <td>23648.270135</td>\n",
              "      <td>2018.260830</td>\n",
              "      <td>143.730868</td>\n",
              "      <td>1618.691467</td>\n",
              "      <td>4.784916</td>\n",
              "    </tr>\n",
              "    <tr>\n",
              "      <th>std</th>\n",
              "      <td>41757.295438</td>\n",
              "      <td>19217.885868</td>\n",
              "      <td>2.366783</td>\n",
              "      <td>75.691173</td>\n",
              "      <td>532.723119</td>\n",
              "      <td>0.619541</td>\n",
              "    </tr>\n",
              "    <tr>\n",
              "      <th>min</th>\n",
              "      <td>10000.000000</td>\n",
              "      <td>4000.000000</td>\n",
              "      <td>2012.000000</td>\n",
              "      <td>60.000000</td>\n",
              "      <td>875.000000</td>\n",
              "      <td>2.000000</td>\n",
              "    </tr>\n",
              "    <tr>\n",
              "      <th>25%</th>\n",
              "      <td>37127.000000</td>\n",
              "      <td>14790.000000</td>\n",
              "      <td>2017.000000</td>\n",
              "      <td>105.000000</td>\n",
              "      <td>1318.000000</td>\n",
              "      <td>5.000000</td>\n",
              "    </tr>\n",
              "    <tr>\n",
              "      <th>50%</th>\n",
              "      <td>66814.000000</td>\n",
              "      <td>19600.000000</td>\n",
              "      <td>2018.000000</td>\n",
              "      <td>125.000000</td>\n",
              "      <td>1499.000000</td>\n",
              "      <td>5.000000</td>\n",
              "    </tr>\n",
              "    <tr>\n",
              "      <th>75%</th>\n",
              "      <td>99373.000000</td>\n",
              "      <td>26590.000000</td>\n",
              "      <td>2020.000000</td>\n",
              "      <td>150.000000</td>\n",
              "      <td>1956.000000</td>\n",
              "      <td>5.000000</td>\n",
              "    </tr>\n",
              "    <tr>\n",
              "      <th>max</th>\n",
              "      <td>180000.000000</td>\n",
              "      <td>450000.000000</td>\n",
              "      <td>2022.000000</td>\n",
              "      <td>800.000000</td>\n",
              "      <td>6496.000000</td>\n",
              "      <td>5.000000</td>\n",
              "    </tr>\n",
              "  </tbody>\n",
              "</table>\n",
              "</div>\n",
              "      <button class=\"colab-df-convert\" onclick=\"convertToInteractive('df-4c8e3858-bc60-485e-a547-c1297fe07d4a')\"\n",
              "              title=\"Convert this dataframe to an interactive table.\"\n",
              "              style=\"display:none;\">\n",
              "        \n",
              "  <svg xmlns=\"http://www.w3.org/2000/svg\" height=\"24px\"viewBox=\"0 0 24 24\"\n",
              "       width=\"24px\">\n",
              "    <path d=\"M0 0h24v24H0V0z\" fill=\"none\"/>\n",
              "    <path d=\"M18.56 5.44l.94 2.06.94-2.06 2.06-.94-2.06-.94-.94-2.06-.94 2.06-2.06.94zm-11 1L8.5 8.5l.94-2.06 2.06-.94-2.06-.94L8.5 2.5l-.94 2.06-2.06.94zm10 10l.94 2.06.94-2.06 2.06-.94-2.06-.94-.94-2.06-.94 2.06-2.06.94z\"/><path d=\"M17.41 7.96l-1.37-1.37c-.4-.4-.92-.59-1.43-.59-.52 0-1.04.2-1.43.59L10.3 9.45l-7.72 7.72c-.78.78-.78 2.05 0 2.83L4 21.41c.39.39.9.59 1.41.59.51 0 1.02-.2 1.41-.59l7.78-7.78 2.81-2.81c.8-.78.8-2.07 0-2.86zM5.41 20L4 18.59l7.72-7.72 1.47 1.35L5.41 20z\"/>\n",
              "  </svg>\n",
              "      </button>\n",
              "      \n",
              "  <style>\n",
              "    .colab-df-container {\n",
              "      display:flex;\n",
              "      flex-wrap:wrap;\n",
              "      gap: 12px;\n",
              "    }\n",
              "\n",
              "    .colab-df-convert {\n",
              "      background-color: #E8F0FE;\n",
              "      border: none;\n",
              "      border-radius: 50%;\n",
              "      cursor: pointer;\n",
              "      display: none;\n",
              "      fill: #1967D2;\n",
              "      height: 32px;\n",
              "      padding: 0 0 0 0;\n",
              "      width: 32px;\n",
              "    }\n",
              "\n",
              "    .colab-df-convert:hover {\n",
              "      background-color: #E2EBFA;\n",
              "      box-shadow: 0px 1px 2px rgba(60, 64, 67, 0.3), 0px 1px 3px 1px rgba(60, 64, 67, 0.15);\n",
              "      fill: #174EA6;\n",
              "    }\n",
              "\n",
              "    [theme=dark] .colab-df-convert {\n",
              "      background-color: #3B4455;\n",
              "      fill: #D2E3FC;\n",
              "    }\n",
              "\n",
              "    [theme=dark] .colab-df-convert:hover {\n",
              "      background-color: #434B5C;\n",
              "      box-shadow: 0px 1px 3px 1px rgba(0, 0, 0, 0.15);\n",
              "      filter: drop-shadow(0px 1px 2px rgba(0, 0, 0, 0.3));\n",
              "      fill: #FFFFFF;\n",
              "    }\n",
              "  </style>\n",
              "\n",
              "      <script>\n",
              "        const buttonEl =\n",
              "          document.querySelector('#df-4c8e3858-bc60-485e-a547-c1297fe07d4a button.colab-df-convert');\n",
              "        buttonEl.style.display =\n",
              "          google.colab.kernel.accessAllowed ? 'block' : 'none';\n",
              "\n",
              "        async function convertToInteractive(key) {\n",
              "          const element = document.querySelector('#df-4c8e3858-bc60-485e-a547-c1297fe07d4a');\n",
              "          const dataTable =\n",
              "            await google.colab.kernel.invokeFunction('convertToInteractive',\n",
              "                                                     [key], {});\n",
              "          if (!dataTable) return;\n",
              "\n",
              "          const docLinkHtml = 'Like what you see? Visit the ' +\n",
              "            '<a target=\"_blank\" href=https://colab.research.google.com/notebooks/data_table.ipynb>data table notebook</a>'\n",
              "            + ' to learn more about interactive tables.';\n",
              "          element.innerHTML = '';\n",
              "          dataTable['output_type'] = 'display_data';\n",
              "          await google.colab.output.renderOutput(dataTable, element);\n",
              "          const docLink = document.createElement('div');\n",
              "          docLink.innerHTML = docLinkHtml;\n",
              "          element.appendChild(docLink);\n",
              "        }\n",
              "      </script>\n",
              "    </div>\n",
              "  </div>\n",
              "  "
            ]
          },
          "metadata": {},
          "execution_count": 39
        }
      ],
      "source": [
        "df.describe()"
      ]
    },
    {
      "cell_type": "code",
      "source": [
        "dfCopy = df.copy()"
      ],
      "metadata": {
        "id": "f415Fo_0Wc_o"
      },
      "execution_count": null,
      "outputs": []
    },
    {
      "cell_type": "markdown",
      "metadata": {
        "id": "Or9r-rjZs17t"
      },
      "source": [
        "#### Preprocesador OneHotEncoder"
      ]
    },
    {
      "cell_type": "code",
      "execution_count": null,
      "metadata": {
        "id": "z-nUlYutbF2u"
      },
      "outputs": [],
      "source": [
        "# Crear el preprocesador de One Hot Encoding\n",
        "one_hot_encoder = OneHotEncoder(handle_unknown='ignore', sparse=False)"
      ]
    },
    {
      "cell_type": "markdown",
      "metadata": {
        "id": "f1q4VG9Ds-ly"
      },
      "source": [
        "#### Categorical to Encoded columns"
      ]
    },
    {
      "cell_type": "code",
      "execution_count": null,
      "metadata": {
        "colab": {
          "base_uri": "https://localhost:8080/"
        },
        "id": "PjAcoZx0bFwL",
        "outputId": "d28de5f7-da4c-4349-c429-f8470af72583"
      },
      "outputs": [
        {
          "output_type": "stream",
          "name": "stderr",
          "text": [
            "/usr/local/lib/python3.10/dist-packages/sklearn/preprocessing/_encoders.py:868: FutureWarning: `sparse` was renamed to `sparse_output` in version 1.2 and will be removed in 1.4. `sparse_output` is ignored unless you leave `sparse` to its default value.\n",
            "  warnings.warn(\n"
          ]
        }
      ],
      "source": [
        "# Ajustar y transformar el preprocesador con los datos de entrenamiento\n",
        "categorical_data = df[categorical_columns]\n",
        "encoded_categorical = one_hot_encoder.fit_transform(categorical_data)\n",
        "# Crear un DataFrame a partir de los datos codificados con One Hot Encoding\n",
        "encoded_df = pd.DataFrame(encoded_categorical, columns=one_hot_encoder.get_feature_names_out(categorical_columns))\n"
      ]
    },
    {
      "cell_type": "code",
      "execution_count": null,
      "metadata": {
        "id": "ugwTliEqsHHb"
      },
      "outputs": [],
      "source": [
        "numerical_data = df[numerical_columns]"
      ]
    },
    {
      "cell_type": "markdown",
      "metadata": {
        "id": "6F0FHFWKsyH0"
      },
      "source": [
        "#### Float to INT"
      ]
    },
    {
      "cell_type": "code",
      "execution_count": null,
      "metadata": {
        "id": "-I5iFM9RtGxS"
      },
      "outputs": [],
      "source": [
        "float_data = df[float_columns].astype(int)"
      ]
    },
    {
      "cell_type": "code",
      "source": [
        "processed_data = pd.concat([float_data, numerical_data], axis=1)"
      ],
      "metadata": {
        "id": "3u5wRyQIyXje"
      },
      "execution_count": null,
      "outputs": []
    },
    {
      "cell_type": "code",
      "source": [
        "processed_data"
      ],
      "metadata": {
        "colab": {
          "base_uri": "https://localhost:8080/",
          "height": 423
        },
        "id": "MOJSApQR-5Mj",
        "outputId": "ce4eafb4-c674-4988-814b-396b9fa290dc"
      },
      "execution_count": null,
      "outputs": [
        {
          "output_type": "execute_result",
          "data": {
            "text/plain": [
              "       Horsepower  Cubic Capacity  Doors      KM  Year\n",
              "0             300            2997      5   13338  2022\n",
              "1             150            2179      5  143000  2013\n",
              "2             200            2997      3   10262  2022\n",
              "3             240            1999      5  130000  2013\n",
              "4             150            1999      5   26728  2019\n",
              "...           ...             ...    ...     ...   ...\n",
              "11282          90            1364      5  143475  2012\n",
              "11283          99            1329      5   38594  2013\n",
              "11284         197            2494      5  128758  2018\n",
              "11285         180            1987      5   12500  2021\n",
              "11286         122            1798      5   27000  2022\n",
              "\n",
              "[9995 rows x 5 columns]"
            ],
            "text/html": [
              "\n",
              "  <div id=\"df-b6bd2b49-a348-4199-84d7-aee896165f46\">\n",
              "    <div class=\"colab-df-container\">\n",
              "      <div>\n",
              "<style scoped>\n",
              "    .dataframe tbody tr th:only-of-type {\n",
              "        vertical-align: middle;\n",
              "    }\n",
              "\n",
              "    .dataframe tbody tr th {\n",
              "        vertical-align: top;\n",
              "    }\n",
              "\n",
              "    .dataframe thead th {\n",
              "        text-align: right;\n",
              "    }\n",
              "</style>\n",
              "<table border=\"1\" class=\"dataframe\">\n",
              "  <thead>\n",
              "    <tr style=\"text-align: right;\">\n",
              "      <th></th>\n",
              "      <th>Horsepower</th>\n",
              "      <th>Cubic Capacity</th>\n",
              "      <th>Doors</th>\n",
              "      <th>KM</th>\n",
              "      <th>Year</th>\n",
              "    </tr>\n",
              "  </thead>\n",
              "  <tbody>\n",
              "    <tr>\n",
              "      <th>0</th>\n",
              "      <td>300</td>\n",
              "      <td>2997</td>\n",
              "      <td>5</td>\n",
              "      <td>13338</td>\n",
              "      <td>2022</td>\n",
              "    </tr>\n",
              "    <tr>\n",
              "      <th>1</th>\n",
              "      <td>150</td>\n",
              "      <td>2179</td>\n",
              "      <td>5</td>\n",
              "      <td>143000</td>\n",
              "      <td>2013</td>\n",
              "    </tr>\n",
              "    <tr>\n",
              "      <th>2</th>\n",
              "      <td>200</td>\n",
              "      <td>2997</td>\n",
              "      <td>3</td>\n",
              "      <td>10262</td>\n",
              "      <td>2022</td>\n",
              "    </tr>\n",
              "    <tr>\n",
              "      <th>3</th>\n",
              "      <td>240</td>\n",
              "      <td>1999</td>\n",
              "      <td>5</td>\n",
              "      <td>130000</td>\n",
              "      <td>2013</td>\n",
              "    </tr>\n",
              "    <tr>\n",
              "      <th>4</th>\n",
              "      <td>150</td>\n",
              "      <td>1999</td>\n",
              "      <td>5</td>\n",
              "      <td>26728</td>\n",
              "      <td>2019</td>\n",
              "    </tr>\n",
              "    <tr>\n",
              "      <th>...</th>\n",
              "      <td>...</td>\n",
              "      <td>...</td>\n",
              "      <td>...</td>\n",
              "      <td>...</td>\n",
              "      <td>...</td>\n",
              "    </tr>\n",
              "    <tr>\n",
              "      <th>11282</th>\n",
              "      <td>90</td>\n",
              "      <td>1364</td>\n",
              "      <td>5</td>\n",
              "      <td>143475</td>\n",
              "      <td>2012</td>\n",
              "    </tr>\n",
              "    <tr>\n",
              "      <th>11283</th>\n",
              "      <td>99</td>\n",
              "      <td>1329</td>\n",
              "      <td>5</td>\n",
              "      <td>38594</td>\n",
              "      <td>2013</td>\n",
              "    </tr>\n",
              "    <tr>\n",
              "      <th>11284</th>\n",
              "      <td>197</td>\n",
              "      <td>2494</td>\n",
              "      <td>5</td>\n",
              "      <td>128758</td>\n",
              "      <td>2018</td>\n",
              "    </tr>\n",
              "    <tr>\n",
              "      <th>11285</th>\n",
              "      <td>180</td>\n",
              "      <td>1987</td>\n",
              "      <td>5</td>\n",
              "      <td>12500</td>\n",
              "      <td>2021</td>\n",
              "    </tr>\n",
              "    <tr>\n",
              "      <th>11286</th>\n",
              "      <td>122</td>\n",
              "      <td>1798</td>\n",
              "      <td>5</td>\n",
              "      <td>27000</td>\n",
              "      <td>2022</td>\n",
              "    </tr>\n",
              "  </tbody>\n",
              "</table>\n",
              "<p>9995 rows × 5 columns</p>\n",
              "</div>\n",
              "      <button class=\"colab-df-convert\" onclick=\"convertToInteractive('df-b6bd2b49-a348-4199-84d7-aee896165f46')\"\n",
              "              title=\"Convert this dataframe to an interactive table.\"\n",
              "              style=\"display:none;\">\n",
              "        \n",
              "  <svg xmlns=\"http://www.w3.org/2000/svg\" height=\"24px\"viewBox=\"0 0 24 24\"\n",
              "       width=\"24px\">\n",
              "    <path d=\"M0 0h24v24H0V0z\" fill=\"none\"/>\n",
              "    <path d=\"M18.56 5.44l.94 2.06.94-2.06 2.06-.94-2.06-.94-.94-2.06-.94 2.06-2.06.94zm-11 1L8.5 8.5l.94-2.06 2.06-.94-2.06-.94L8.5 2.5l-.94 2.06-2.06.94zm10 10l.94 2.06.94-2.06 2.06-.94-2.06-.94-.94-2.06-.94 2.06-2.06.94z\"/><path d=\"M17.41 7.96l-1.37-1.37c-.4-.4-.92-.59-1.43-.59-.52 0-1.04.2-1.43.59L10.3 9.45l-7.72 7.72c-.78.78-.78 2.05 0 2.83L4 21.41c.39.39.9.59 1.41.59.51 0 1.02-.2 1.41-.59l7.78-7.78 2.81-2.81c.8-.78.8-2.07 0-2.86zM5.41 20L4 18.59l7.72-7.72 1.47 1.35L5.41 20z\"/>\n",
              "  </svg>\n",
              "      </button>\n",
              "      \n",
              "  <style>\n",
              "    .colab-df-container {\n",
              "      display:flex;\n",
              "      flex-wrap:wrap;\n",
              "      gap: 12px;\n",
              "    }\n",
              "\n",
              "    .colab-df-convert {\n",
              "      background-color: #E8F0FE;\n",
              "      border: none;\n",
              "      border-radius: 50%;\n",
              "      cursor: pointer;\n",
              "      display: none;\n",
              "      fill: #1967D2;\n",
              "      height: 32px;\n",
              "      padding: 0 0 0 0;\n",
              "      width: 32px;\n",
              "    }\n",
              "\n",
              "    .colab-df-convert:hover {\n",
              "      background-color: #E2EBFA;\n",
              "      box-shadow: 0px 1px 2px rgba(60, 64, 67, 0.3), 0px 1px 3px 1px rgba(60, 64, 67, 0.15);\n",
              "      fill: #174EA6;\n",
              "    }\n",
              "\n",
              "    [theme=dark] .colab-df-convert {\n",
              "      background-color: #3B4455;\n",
              "      fill: #D2E3FC;\n",
              "    }\n",
              "\n",
              "    [theme=dark] .colab-df-convert:hover {\n",
              "      background-color: #434B5C;\n",
              "      box-shadow: 0px 1px 3px 1px rgba(0, 0, 0, 0.15);\n",
              "      filter: drop-shadow(0px 1px 2px rgba(0, 0, 0, 0.3));\n",
              "      fill: #FFFFFF;\n",
              "    }\n",
              "  </style>\n",
              "\n",
              "      <script>\n",
              "        const buttonEl =\n",
              "          document.querySelector('#df-b6bd2b49-a348-4199-84d7-aee896165f46 button.colab-df-convert');\n",
              "        buttonEl.style.display =\n",
              "          google.colab.kernel.accessAllowed ? 'block' : 'none';\n",
              "\n",
              "        async function convertToInteractive(key) {\n",
              "          const element = document.querySelector('#df-b6bd2b49-a348-4199-84d7-aee896165f46');\n",
              "          const dataTable =\n",
              "            await google.colab.kernel.invokeFunction('convertToInteractive',\n",
              "                                                     [key], {});\n",
              "          if (!dataTable) return;\n",
              "\n",
              "          const docLinkHtml = 'Like what you see? Visit the ' +\n",
              "            '<a target=\"_blank\" href=https://colab.research.google.com/notebooks/data_table.ipynb>data table notebook</a>'\n",
              "            + ' to learn more about interactive tables.';\n",
              "          element.innerHTML = '';\n",
              "          dataTable['output_type'] = 'display_data';\n",
              "          await google.colab.output.renderOutput(dataTable, element);\n",
              "          const docLink = document.createElement('div');\n",
              "          docLink.innerHTML = docLinkHtml;\n",
              "          element.appendChild(docLink);\n",
              "        }\n",
              "      </script>\n",
              "    </div>\n",
              "  </div>\n",
              "  "
            ]
          },
          "metadata": {},
          "execution_count": 46
        }
      ]
    },
    {
      "cell_type": "code",
      "source": [
        "# Crear el objeto MinMaxScaler\n",
        "scaler = MinMaxScaler()\n",
        "\n",
        "# Ajustar y transformar los datos numéricos\n",
        "new_processed_data = scaler.fit_transform(processed_data)"
      ],
      "metadata": {
        "id": "esSx02QEonkw"
      },
      "execution_count": null,
      "outputs": []
    },
    {
      "cell_type": "code",
      "source": [
        "# Crear un DataFrame con los datos numéricos normalizados\n",
        "numerical_data_scaled_df = pd.DataFrame(new_processed_data, columns=numerical_float_columns)"
      ],
      "metadata": {
        "id": "g7jnvrsKzU71"
      },
      "execution_count": null,
      "outputs": []
    },
    {
      "cell_type": "markdown",
      "metadata": {
        "id": "1hKz3FUB0VoD"
      },
      "source": [
        "#### Union between Categoricals, Floats and Numerical"
      ]
    },
    {
      "cell_type": "code",
      "source": [
        "df = pd.concat([encoded_df, numerical_data_scaled_df.reset_index(drop=True)], axis=1)"
      ],
      "metadata": {
        "id": "3H6isX5romdT"
      },
      "execution_count": null,
      "outputs": []
    },
    {
      "cell_type": "code",
      "execution_count": null,
      "metadata": {
        "id": "j1FSpcTVtJBz"
      },
      "outputs": [],
      "source": []
    },
    {
      "cell_type": "code",
      "execution_count": null,
      "metadata": {
        "colab": {
          "base_uri": "https://localhost:8080/"
        },
        "id": "xUVA3B2bwFvu",
        "outputId": "286db04e-d8fa-44ef-aec0-ccf1bab78d6f"
      },
      "outputs": [
        {
          "output_type": "execute_result",
          "data": {
            "text/plain": [
              "Index(['Color_COMMON.COLOR_BEIGE', 'Color_COMMON.COLOR_BLACK',\n",
              "       'Color_COMMON.COLOR_BLUE', 'Color_COMMON.COLOR_BROWN',\n",
              "       'Color_COMMON.COLOR_GARNET', 'Color_COMMON.COLOR_GRAY',\n",
              "       'Color_COMMON.COLOR_GREEN', 'Color_COMMON.COLOR_ORANGE',\n",
              "       'Color_COMMON.COLOR_PINK', 'Color_COMMON.COLOR_PURPLE',\n",
              "       ...\n",
              "       'Body Type_BODY_TYPE_COUPE', 'Body Type_BODY_TYPE_FAMILIAR',\n",
              "       'Body Type_BODY_TYPE_MINIVAN', 'Body Type_BODY_TYPE_PICK_UP',\n",
              "       'Body Type_BODY_TYPE_SEDAN', 'KM', 'Year', 'Horsepower',\n",
              "       'Cubic Capacity', 'Doors'],\n",
              "      dtype='object', length=525)"
            ]
          },
          "metadata": {},
          "execution_count": 50
        }
      ],
      "source": [
        "df.columns"
      ]
    },
    {
      "cell_type": "code",
      "source": [],
      "metadata": {
        "id": "BJw-VudnxKy8"
      },
      "execution_count": null,
      "outputs": []
    },
    {
      "cell_type": "code",
      "execution_count": null,
      "metadata": {
        "colab": {
          "base_uri": "https://localhost:8080/"
        },
        "id": "KRQnA6Le8973",
        "outputId": "063c4ea2-b5d1-4730-eaa2-08b9d65d214c"
      },
      "outputs": [
        {
          "output_type": "execute_result",
          "data": {
            "text/plain": [
              "23648.270135067534"
            ]
          },
          "metadata": {},
          "execution_count": 51
        }
      ],
      "source": [
        "dfCopy['Price'].mean()"
      ]
    },
    {
      "cell_type": "code",
      "source": [
        "# Guardar las columnas del OneHotEncoder en un archivo\n",
        "with open(\"encoder_columns.txt\", \"w\", encoding='utf-8') as f:\n",
        "    for column in one_hot_encoder.get_feature_names_out(categorical_columns):\n",
        "        f.write(f\"{column}\\n\")"
      ],
      "metadata": {
        "id": "qNnLc_hYD7H4"
      },
      "execution_count": null,
      "outputs": []
    },
    {
      "cell_type": "code",
      "execution_count": null,
      "metadata": {
        "colab": {
          "base_uri": "https://localhost:8080/"
        },
        "id": "3EkUGFBTpR6W",
        "outputId": "bb5f3bf9-2fa6-4c25-ae5a-d2ba498b85ef"
      },
      "outputs": [
        {
          "output_type": "execute_result",
          "data": {
            "text/plain": [
              "['encoder.pkl']"
            ]
          },
          "metadata": {},
          "execution_count": 53
        }
      ],
      "source": [
        "# Exportar el preprocesador ajustado como 'encoder.pkl'\n",
        "dump(one_hot_encoder, 'encoder.pkl')"
      ]
    },
    {
      "cell_type": "code",
      "source": [
        "df.head()"
      ],
      "metadata": {
        "colab": {
          "base_uri": "https://localhost:8080/",
          "height": 317
        },
        "id": "4pYVqlpF6PYh",
        "outputId": "9fe754e6-0c7a-4603-8aa6-00828dcd5e7f"
      },
      "execution_count": null,
      "outputs": [
        {
          "output_type": "execute_result",
          "data": {
            "text/plain": [
              "   Color_COMMON.COLOR_BEIGE  Color_COMMON.COLOR_BLACK  \\\n",
              "0                       0.0                       0.0   \n",
              "1                       0.0                       0.0   \n",
              "2                       0.0                       0.0   \n",
              "3                       0.0                       1.0   \n",
              "4                       0.0                       0.0   \n",
              "\n",
              "   Color_COMMON.COLOR_BLUE  Color_COMMON.COLOR_BROWN  \\\n",
              "0                      0.0                       0.0   \n",
              "1                      0.0                       0.0   \n",
              "2                      0.0                       1.0   \n",
              "3                      0.0                       0.0   \n",
              "4                      0.0                       0.0   \n",
              "\n",
              "   Color_COMMON.COLOR_GARNET  Color_COMMON.COLOR_GRAY  \\\n",
              "0                        0.0                      0.0   \n",
              "1                        0.0                      0.0   \n",
              "2                        0.0                      0.0   \n",
              "3                        0.0                      0.0   \n",
              "4                        0.0                      1.0   \n",
              "\n",
              "   Color_COMMON.COLOR_GREEN  Color_COMMON.COLOR_ORANGE  \\\n",
              "0                       0.0                        0.0   \n",
              "1                       0.0                        0.0   \n",
              "2                       0.0                        0.0   \n",
              "3                       0.0                        0.0   \n",
              "4                       0.0                        0.0   \n",
              "\n",
              "   Color_COMMON.COLOR_PINK  Color_COMMON.COLOR_PURPLE  ...  \\\n",
              "0                      0.0                        0.0  ...   \n",
              "1                      0.0                        0.0  ...   \n",
              "2                      0.0                        0.0  ...   \n",
              "3                      0.0                        0.0  ...   \n",
              "4                      0.0                        0.0  ...   \n",
              "\n",
              "   Body Type_BODY_TYPE_COUPE  Body Type_BODY_TYPE_FAMILIAR  \\\n",
              "0                        0.0                           0.0   \n",
              "1                        0.0                           0.0   \n",
              "2                        0.0                           0.0   \n",
              "3                        0.0                           0.0   \n",
              "4                        0.0                           0.0   \n",
              "\n",
              "   Body Type_BODY_TYPE_MINIVAN  Body Type_BODY_TYPE_PICK_UP  \\\n",
              "0                          0.0                          0.0   \n",
              "1                          0.0                          0.0   \n",
              "2                          0.0                          0.0   \n",
              "3                          0.0                          0.0   \n",
              "4                          0.0                          0.0   \n",
              "\n",
              "   Body Type_BODY_TYPE_SEDAN        KM      Year  Horsepower  Cubic Capacity  \\\n",
              "0                        0.0  0.324324  0.377513    1.000000        0.019635   \n",
              "1                        0.0  0.121622  0.231987    1.000000        0.782353   \n",
              "2                        0.0  0.189189  0.377513    0.333333        0.001541   \n",
              "3                        0.0  0.243243  0.199964    1.000000        0.705882   \n",
              "4                        0.0  0.121622  0.199964    1.000000        0.098400   \n",
              "\n",
              "   Doors  \n",
              "0    1.0  \n",
              "1    0.1  \n",
              "2    1.0  \n",
              "3    0.1  \n",
              "4    0.7  \n",
              "\n",
              "[5 rows x 525 columns]"
            ],
            "text/html": [
              "\n",
              "  <div id=\"df-a53bcce4-dfc1-40f9-8550-800e237c2d81\">\n",
              "    <div class=\"colab-df-container\">\n",
              "      <div>\n",
              "<style scoped>\n",
              "    .dataframe tbody tr th:only-of-type {\n",
              "        vertical-align: middle;\n",
              "    }\n",
              "\n",
              "    .dataframe tbody tr th {\n",
              "        vertical-align: top;\n",
              "    }\n",
              "\n",
              "    .dataframe thead th {\n",
              "        text-align: right;\n",
              "    }\n",
              "</style>\n",
              "<table border=\"1\" class=\"dataframe\">\n",
              "  <thead>\n",
              "    <tr style=\"text-align: right;\">\n",
              "      <th></th>\n",
              "      <th>Color_COMMON.COLOR_BEIGE</th>\n",
              "      <th>Color_COMMON.COLOR_BLACK</th>\n",
              "      <th>Color_COMMON.COLOR_BLUE</th>\n",
              "      <th>Color_COMMON.COLOR_BROWN</th>\n",
              "      <th>Color_COMMON.COLOR_GARNET</th>\n",
              "      <th>Color_COMMON.COLOR_GRAY</th>\n",
              "      <th>Color_COMMON.COLOR_GREEN</th>\n",
              "      <th>Color_COMMON.COLOR_ORANGE</th>\n",
              "      <th>Color_COMMON.COLOR_PINK</th>\n",
              "      <th>Color_COMMON.COLOR_PURPLE</th>\n",
              "      <th>...</th>\n",
              "      <th>Body Type_BODY_TYPE_COUPE</th>\n",
              "      <th>Body Type_BODY_TYPE_FAMILIAR</th>\n",
              "      <th>Body Type_BODY_TYPE_MINIVAN</th>\n",
              "      <th>Body Type_BODY_TYPE_PICK_UP</th>\n",
              "      <th>Body Type_BODY_TYPE_SEDAN</th>\n",
              "      <th>KM</th>\n",
              "      <th>Year</th>\n",
              "      <th>Horsepower</th>\n",
              "      <th>Cubic Capacity</th>\n",
              "      <th>Doors</th>\n",
              "    </tr>\n",
              "  </thead>\n",
              "  <tbody>\n",
              "    <tr>\n",
              "      <th>0</th>\n",
              "      <td>0.0</td>\n",
              "      <td>0.0</td>\n",
              "      <td>0.0</td>\n",
              "      <td>0.0</td>\n",
              "      <td>0.0</td>\n",
              "      <td>0.0</td>\n",
              "      <td>0.0</td>\n",
              "      <td>0.0</td>\n",
              "      <td>0.0</td>\n",
              "      <td>0.0</td>\n",
              "      <td>...</td>\n",
              "      <td>0.0</td>\n",
              "      <td>0.0</td>\n",
              "      <td>0.0</td>\n",
              "      <td>0.0</td>\n",
              "      <td>0.0</td>\n",
              "      <td>0.324324</td>\n",
              "      <td>0.377513</td>\n",
              "      <td>1.000000</td>\n",
              "      <td>0.019635</td>\n",
              "      <td>1.0</td>\n",
              "    </tr>\n",
              "    <tr>\n",
              "      <th>1</th>\n",
              "      <td>0.0</td>\n",
              "      <td>0.0</td>\n",
              "      <td>0.0</td>\n",
              "      <td>0.0</td>\n",
              "      <td>0.0</td>\n",
              "      <td>0.0</td>\n",
              "      <td>0.0</td>\n",
              "      <td>0.0</td>\n",
              "      <td>0.0</td>\n",
              "      <td>0.0</td>\n",
              "      <td>...</td>\n",
              "      <td>0.0</td>\n",
              "      <td>0.0</td>\n",
              "      <td>0.0</td>\n",
              "      <td>0.0</td>\n",
              "      <td>0.0</td>\n",
              "      <td>0.121622</td>\n",
              "      <td>0.231987</td>\n",
              "      <td>1.000000</td>\n",
              "      <td>0.782353</td>\n",
              "      <td>0.1</td>\n",
              "    </tr>\n",
              "    <tr>\n",
              "      <th>2</th>\n",
              "      <td>0.0</td>\n",
              "      <td>0.0</td>\n",
              "      <td>0.0</td>\n",
              "      <td>1.0</td>\n",
              "      <td>0.0</td>\n",
              "      <td>0.0</td>\n",
              "      <td>0.0</td>\n",
              "      <td>0.0</td>\n",
              "      <td>0.0</td>\n",
              "      <td>0.0</td>\n",
              "      <td>...</td>\n",
              "      <td>0.0</td>\n",
              "      <td>0.0</td>\n",
              "      <td>0.0</td>\n",
              "      <td>0.0</td>\n",
              "      <td>0.0</td>\n",
              "      <td>0.189189</td>\n",
              "      <td>0.377513</td>\n",
              "      <td>0.333333</td>\n",
              "      <td>0.001541</td>\n",
              "      <td>1.0</td>\n",
              "    </tr>\n",
              "    <tr>\n",
              "      <th>3</th>\n",
              "      <td>0.0</td>\n",
              "      <td>1.0</td>\n",
              "      <td>0.0</td>\n",
              "      <td>0.0</td>\n",
              "      <td>0.0</td>\n",
              "      <td>0.0</td>\n",
              "      <td>0.0</td>\n",
              "      <td>0.0</td>\n",
              "      <td>0.0</td>\n",
              "      <td>0.0</td>\n",
              "      <td>...</td>\n",
              "      <td>0.0</td>\n",
              "      <td>0.0</td>\n",
              "      <td>0.0</td>\n",
              "      <td>0.0</td>\n",
              "      <td>0.0</td>\n",
              "      <td>0.243243</td>\n",
              "      <td>0.199964</td>\n",
              "      <td>1.000000</td>\n",
              "      <td>0.705882</td>\n",
              "      <td>0.1</td>\n",
              "    </tr>\n",
              "    <tr>\n",
              "      <th>4</th>\n",
              "      <td>0.0</td>\n",
              "      <td>0.0</td>\n",
              "      <td>0.0</td>\n",
              "      <td>0.0</td>\n",
              "      <td>0.0</td>\n",
              "      <td>1.0</td>\n",
              "      <td>0.0</td>\n",
              "      <td>0.0</td>\n",
              "      <td>0.0</td>\n",
              "      <td>0.0</td>\n",
              "      <td>...</td>\n",
              "      <td>0.0</td>\n",
              "      <td>0.0</td>\n",
              "      <td>0.0</td>\n",
              "      <td>0.0</td>\n",
              "      <td>0.0</td>\n",
              "      <td>0.121622</td>\n",
              "      <td>0.199964</td>\n",
              "      <td>1.000000</td>\n",
              "      <td>0.098400</td>\n",
              "      <td>0.7</td>\n",
              "    </tr>\n",
              "  </tbody>\n",
              "</table>\n",
              "<p>5 rows × 525 columns</p>\n",
              "</div>\n",
              "      <button class=\"colab-df-convert\" onclick=\"convertToInteractive('df-a53bcce4-dfc1-40f9-8550-800e237c2d81')\"\n",
              "              title=\"Convert this dataframe to an interactive table.\"\n",
              "              style=\"display:none;\">\n",
              "        \n",
              "  <svg xmlns=\"http://www.w3.org/2000/svg\" height=\"24px\"viewBox=\"0 0 24 24\"\n",
              "       width=\"24px\">\n",
              "    <path d=\"M0 0h24v24H0V0z\" fill=\"none\"/>\n",
              "    <path d=\"M18.56 5.44l.94 2.06.94-2.06 2.06-.94-2.06-.94-.94-2.06-.94 2.06-2.06.94zm-11 1L8.5 8.5l.94-2.06 2.06-.94-2.06-.94L8.5 2.5l-.94 2.06-2.06.94zm10 10l.94 2.06.94-2.06 2.06-.94-2.06-.94-.94-2.06-.94 2.06-2.06.94z\"/><path d=\"M17.41 7.96l-1.37-1.37c-.4-.4-.92-.59-1.43-.59-.52 0-1.04.2-1.43.59L10.3 9.45l-7.72 7.72c-.78.78-.78 2.05 0 2.83L4 21.41c.39.39.9.59 1.41.59.51 0 1.02-.2 1.41-.59l7.78-7.78 2.81-2.81c.8-.78.8-2.07 0-2.86zM5.41 20L4 18.59l7.72-7.72 1.47 1.35L5.41 20z\"/>\n",
              "  </svg>\n",
              "      </button>\n",
              "      \n",
              "  <style>\n",
              "    .colab-df-container {\n",
              "      display:flex;\n",
              "      flex-wrap:wrap;\n",
              "      gap: 12px;\n",
              "    }\n",
              "\n",
              "    .colab-df-convert {\n",
              "      background-color: #E8F0FE;\n",
              "      border: none;\n",
              "      border-radius: 50%;\n",
              "      cursor: pointer;\n",
              "      display: none;\n",
              "      fill: #1967D2;\n",
              "      height: 32px;\n",
              "      padding: 0 0 0 0;\n",
              "      width: 32px;\n",
              "    }\n",
              "\n",
              "    .colab-df-convert:hover {\n",
              "      background-color: #E2EBFA;\n",
              "      box-shadow: 0px 1px 2px rgba(60, 64, 67, 0.3), 0px 1px 3px 1px rgba(60, 64, 67, 0.15);\n",
              "      fill: #174EA6;\n",
              "    }\n",
              "\n",
              "    [theme=dark] .colab-df-convert {\n",
              "      background-color: #3B4455;\n",
              "      fill: #D2E3FC;\n",
              "    }\n",
              "\n",
              "    [theme=dark] .colab-df-convert:hover {\n",
              "      background-color: #434B5C;\n",
              "      box-shadow: 0px 1px 3px 1px rgba(0, 0, 0, 0.15);\n",
              "      filter: drop-shadow(0px 1px 2px rgba(0, 0, 0, 0.3));\n",
              "      fill: #FFFFFF;\n",
              "    }\n",
              "  </style>\n",
              "\n",
              "      <script>\n",
              "        const buttonEl =\n",
              "          document.querySelector('#df-a53bcce4-dfc1-40f9-8550-800e237c2d81 button.colab-df-convert');\n",
              "        buttonEl.style.display =\n",
              "          google.colab.kernel.accessAllowed ? 'block' : 'none';\n",
              "\n",
              "        async function convertToInteractive(key) {\n",
              "          const element = document.querySelector('#df-a53bcce4-dfc1-40f9-8550-800e237c2d81');\n",
              "          const dataTable =\n",
              "            await google.colab.kernel.invokeFunction('convertToInteractive',\n",
              "                                                     [key], {});\n",
              "          if (!dataTable) return;\n",
              "\n",
              "          const docLinkHtml = 'Like what you see? Visit the ' +\n",
              "            '<a target=\"_blank\" href=https://colab.research.google.com/notebooks/data_table.ipynb>data table notebook</a>'\n",
              "            + ' to learn more about interactive tables.';\n",
              "          element.innerHTML = '';\n",
              "          dataTable['output_type'] = 'display_data';\n",
              "          await google.colab.output.renderOutput(dataTable, element);\n",
              "          const docLink = document.createElement('div');\n",
              "          docLink.innerHTML = docLinkHtml;\n",
              "          element.appendChild(docLink);\n",
              "        }\n",
              "      </script>\n",
              "    </div>\n",
              "  </div>\n",
              "  "
            ]
          },
          "metadata": {},
          "execution_count": 54
        }
      ]
    },
    {
      "cell_type": "code",
      "source": [
        "dfCopy.head()"
      ],
      "metadata": {
        "colab": {
          "base_uri": "https://localhost:8080/",
          "height": 426
        },
        "id": "vGKGk6iY6RZa",
        "outputId": "9f75dc4c-b22f-4597-f48e-5bb0f5c61262"
      },
      "execution_count": null,
      "outputs": [
        {
          "output_type": "execute_result",
          "data": {
            "text/plain": [
              "                Color      KM        Make               Model  Price  \\\n",
              "0  COMMON.COLOR_WHITE   13338  LAND-ROVER   Range Rover Sport  88900   \n",
              "1    COMMON.COLOR_RED  143000  LAND-ROVER  Range Rover Evoque  21000   \n",
              "2  COMMON.COLOR_BROWN   10262  LAND-ROVER            Defender  79900   \n",
              "3  COMMON.COLOR_BLACK  130000  LAND-ROVER  Range Rover Evoque  23550   \n",
              "4   COMMON.COLOR_GRAY   26728  LAND-ROVER     Discovery Sport  38400   \n",
              "\n",
              "    Province  Year  Horsepower              Transmission Type Fuel Types  \\\n",
              "0     Girona  2022       300.0  COMMON.TRANSMISSION_AUTOMATIC    Híbrido   \n",
              "1  Barcelona  2013       150.0  COMMON.TRANSMISSION_AUTOMATIC     Diésel   \n",
              "2     Madrid  2022       200.0  COMMON.TRANSMISSION_AUTOMATIC    Híbrido   \n",
              "3     Málaga  2013       240.0  COMMON.TRANSMISSION_AUTOMATIC   Gasolina   \n",
              "4  Barcelona  2019       150.0  COMMON.TRANSMISSION_AUTOMATIC    Híbrido   \n",
              "\n",
              "   Seller Type      Body Type  Cubic Capacity  Doors  \n",
              "0  profesional  BODY_TYPE_4X4          2997.0    5.0  \n",
              "1   particular  BODY_TYPE_4X4          2179.0    5.0  \n",
              "2  profesional  BODY_TYPE_4X4          2997.0    3.0  \n",
              "3   particular  BODY_TYPE_4X4          1999.0    5.0  \n",
              "4  profesional  BODY_TYPE_4X4          1999.0    5.0  "
            ],
            "text/html": [
              "\n",
              "  <div id=\"df-88875a69-c513-49b8-bcd2-5870454773d1\">\n",
              "    <div class=\"colab-df-container\">\n",
              "      <div>\n",
              "<style scoped>\n",
              "    .dataframe tbody tr th:only-of-type {\n",
              "        vertical-align: middle;\n",
              "    }\n",
              "\n",
              "    .dataframe tbody tr th {\n",
              "        vertical-align: top;\n",
              "    }\n",
              "\n",
              "    .dataframe thead th {\n",
              "        text-align: right;\n",
              "    }\n",
              "</style>\n",
              "<table border=\"1\" class=\"dataframe\">\n",
              "  <thead>\n",
              "    <tr style=\"text-align: right;\">\n",
              "      <th></th>\n",
              "      <th>Color</th>\n",
              "      <th>KM</th>\n",
              "      <th>Make</th>\n",
              "      <th>Model</th>\n",
              "      <th>Price</th>\n",
              "      <th>Province</th>\n",
              "      <th>Year</th>\n",
              "      <th>Horsepower</th>\n",
              "      <th>Transmission Type</th>\n",
              "      <th>Fuel Types</th>\n",
              "      <th>Seller Type</th>\n",
              "      <th>Body Type</th>\n",
              "      <th>Cubic Capacity</th>\n",
              "      <th>Doors</th>\n",
              "    </tr>\n",
              "  </thead>\n",
              "  <tbody>\n",
              "    <tr>\n",
              "      <th>0</th>\n",
              "      <td>COMMON.COLOR_WHITE</td>\n",
              "      <td>13338</td>\n",
              "      <td>LAND-ROVER</td>\n",
              "      <td>Range Rover Sport</td>\n",
              "      <td>88900</td>\n",
              "      <td>Girona</td>\n",
              "      <td>2022</td>\n",
              "      <td>300.0</td>\n",
              "      <td>COMMON.TRANSMISSION_AUTOMATIC</td>\n",
              "      <td>Híbrido</td>\n",
              "      <td>profesional</td>\n",
              "      <td>BODY_TYPE_4X4</td>\n",
              "      <td>2997.0</td>\n",
              "      <td>5.0</td>\n",
              "    </tr>\n",
              "    <tr>\n",
              "      <th>1</th>\n",
              "      <td>COMMON.COLOR_RED</td>\n",
              "      <td>143000</td>\n",
              "      <td>LAND-ROVER</td>\n",
              "      <td>Range Rover Evoque</td>\n",
              "      <td>21000</td>\n",
              "      <td>Barcelona</td>\n",
              "      <td>2013</td>\n",
              "      <td>150.0</td>\n",
              "      <td>COMMON.TRANSMISSION_AUTOMATIC</td>\n",
              "      <td>Diésel</td>\n",
              "      <td>particular</td>\n",
              "      <td>BODY_TYPE_4X4</td>\n",
              "      <td>2179.0</td>\n",
              "      <td>5.0</td>\n",
              "    </tr>\n",
              "    <tr>\n",
              "      <th>2</th>\n",
              "      <td>COMMON.COLOR_BROWN</td>\n",
              "      <td>10262</td>\n",
              "      <td>LAND-ROVER</td>\n",
              "      <td>Defender</td>\n",
              "      <td>79900</td>\n",
              "      <td>Madrid</td>\n",
              "      <td>2022</td>\n",
              "      <td>200.0</td>\n",
              "      <td>COMMON.TRANSMISSION_AUTOMATIC</td>\n",
              "      <td>Híbrido</td>\n",
              "      <td>profesional</td>\n",
              "      <td>BODY_TYPE_4X4</td>\n",
              "      <td>2997.0</td>\n",
              "      <td>3.0</td>\n",
              "    </tr>\n",
              "    <tr>\n",
              "      <th>3</th>\n",
              "      <td>COMMON.COLOR_BLACK</td>\n",
              "      <td>130000</td>\n",
              "      <td>LAND-ROVER</td>\n",
              "      <td>Range Rover Evoque</td>\n",
              "      <td>23550</td>\n",
              "      <td>Málaga</td>\n",
              "      <td>2013</td>\n",
              "      <td>240.0</td>\n",
              "      <td>COMMON.TRANSMISSION_AUTOMATIC</td>\n",
              "      <td>Gasolina</td>\n",
              "      <td>particular</td>\n",
              "      <td>BODY_TYPE_4X4</td>\n",
              "      <td>1999.0</td>\n",
              "      <td>5.0</td>\n",
              "    </tr>\n",
              "    <tr>\n",
              "      <th>4</th>\n",
              "      <td>COMMON.COLOR_GRAY</td>\n",
              "      <td>26728</td>\n",
              "      <td>LAND-ROVER</td>\n",
              "      <td>Discovery Sport</td>\n",
              "      <td>38400</td>\n",
              "      <td>Barcelona</td>\n",
              "      <td>2019</td>\n",
              "      <td>150.0</td>\n",
              "      <td>COMMON.TRANSMISSION_AUTOMATIC</td>\n",
              "      <td>Híbrido</td>\n",
              "      <td>profesional</td>\n",
              "      <td>BODY_TYPE_4X4</td>\n",
              "      <td>1999.0</td>\n",
              "      <td>5.0</td>\n",
              "    </tr>\n",
              "  </tbody>\n",
              "</table>\n",
              "</div>\n",
              "      <button class=\"colab-df-convert\" onclick=\"convertToInteractive('df-88875a69-c513-49b8-bcd2-5870454773d1')\"\n",
              "              title=\"Convert this dataframe to an interactive table.\"\n",
              "              style=\"display:none;\">\n",
              "        \n",
              "  <svg xmlns=\"http://www.w3.org/2000/svg\" height=\"24px\"viewBox=\"0 0 24 24\"\n",
              "       width=\"24px\">\n",
              "    <path d=\"M0 0h24v24H0V0z\" fill=\"none\"/>\n",
              "    <path d=\"M18.56 5.44l.94 2.06.94-2.06 2.06-.94-2.06-.94-.94-2.06-.94 2.06-2.06.94zm-11 1L8.5 8.5l.94-2.06 2.06-.94-2.06-.94L8.5 2.5l-.94 2.06-2.06.94zm10 10l.94 2.06.94-2.06 2.06-.94-2.06-.94-.94-2.06-.94 2.06-2.06.94z\"/><path d=\"M17.41 7.96l-1.37-1.37c-.4-.4-.92-.59-1.43-.59-.52 0-1.04.2-1.43.59L10.3 9.45l-7.72 7.72c-.78.78-.78 2.05 0 2.83L4 21.41c.39.39.9.59 1.41.59.51 0 1.02-.2 1.41-.59l7.78-7.78 2.81-2.81c.8-.78.8-2.07 0-2.86zM5.41 20L4 18.59l7.72-7.72 1.47 1.35L5.41 20z\"/>\n",
              "  </svg>\n",
              "      </button>\n",
              "      \n",
              "  <style>\n",
              "    .colab-df-container {\n",
              "      display:flex;\n",
              "      flex-wrap:wrap;\n",
              "      gap: 12px;\n",
              "    }\n",
              "\n",
              "    .colab-df-convert {\n",
              "      background-color: #E8F0FE;\n",
              "      border: none;\n",
              "      border-radius: 50%;\n",
              "      cursor: pointer;\n",
              "      display: none;\n",
              "      fill: #1967D2;\n",
              "      height: 32px;\n",
              "      padding: 0 0 0 0;\n",
              "      width: 32px;\n",
              "    }\n",
              "\n",
              "    .colab-df-convert:hover {\n",
              "      background-color: #E2EBFA;\n",
              "      box-shadow: 0px 1px 2px rgba(60, 64, 67, 0.3), 0px 1px 3px 1px rgba(60, 64, 67, 0.15);\n",
              "      fill: #174EA6;\n",
              "    }\n",
              "\n",
              "    [theme=dark] .colab-df-convert {\n",
              "      background-color: #3B4455;\n",
              "      fill: #D2E3FC;\n",
              "    }\n",
              "\n",
              "    [theme=dark] .colab-df-convert:hover {\n",
              "      background-color: #434B5C;\n",
              "      box-shadow: 0px 1px 3px 1px rgba(0, 0, 0, 0.15);\n",
              "      filter: drop-shadow(0px 1px 2px rgba(0, 0, 0, 0.3));\n",
              "      fill: #FFFFFF;\n",
              "    }\n",
              "  </style>\n",
              "\n",
              "      <script>\n",
              "        const buttonEl =\n",
              "          document.querySelector('#df-88875a69-c513-49b8-bcd2-5870454773d1 button.colab-df-convert');\n",
              "        buttonEl.style.display =\n",
              "          google.colab.kernel.accessAllowed ? 'block' : 'none';\n",
              "\n",
              "        async function convertToInteractive(key) {\n",
              "          const element = document.querySelector('#df-88875a69-c513-49b8-bcd2-5870454773d1');\n",
              "          const dataTable =\n",
              "            await google.colab.kernel.invokeFunction('convertToInteractive',\n",
              "                                                     [key], {});\n",
              "          if (!dataTable) return;\n",
              "\n",
              "          const docLinkHtml = 'Like what you see? Visit the ' +\n",
              "            '<a target=\"_blank\" href=https://colab.research.google.com/notebooks/data_table.ipynb>data table notebook</a>'\n",
              "            + ' to learn more about interactive tables.';\n",
              "          element.innerHTML = '';\n",
              "          dataTable['output_type'] = 'display_data';\n",
              "          await google.colab.output.renderOutput(dataTable, element);\n",
              "          const docLink = document.createElement('div');\n",
              "          docLink.innerHTML = docLinkHtml;\n",
              "          element.appendChild(docLink);\n",
              "        }\n",
              "      </script>\n",
              "    </div>\n",
              "  </div>\n",
              "  "
            ]
          },
          "metadata": {},
          "execution_count": 55
        }
      ]
    },
    {
      "cell_type": "code",
      "execution_count": null,
      "metadata": {
        "id": "1RAmN3QRwmsS"
      },
      "outputs": [],
      "source": [
        "X = df\n",
        "y = dfCopy['Price']\n",
        "\n",
        "X_train, X_test, y_train, y_test = train_test_split(X, y, test_size=0.2, random_state=14)\n",
        "X_train, X_val, y_train, y_val = train_test_split(X_train, y_train, test_size=0.25, random_state=14)  # 0.25 * 0.8 = 0.2"
      ]
    },
    {
      "cell_type": "code",
      "execution_count": null,
      "metadata": {
        "id": "ZPzlQKoCwmnt"
      },
      "outputs": [],
      "source": [
        "def build_model(hp):\n",
        "    model = Sequential()\n",
        "    \n",
        "    # Capa de entrada\n",
        "    model.add(Dense(units=hp.Int('units_input', min_value=12, max_value=32, step=3),\n",
        "                    input_shape=(X_train.shape[1],),\n",
        "                    activation='relu',\n",
        "                    kernel_regularizer=l2(hp.Float('l2_input', min_value=0.0001, max_value=0.01, sampling='LOG'))))\n",
        "    model.add(Dropout(hp.Float('dropout_input', min_value=0.1, max_value=0.5, step=0.1)))\n",
        "    \n",
        "    # Capas ocultas\n",
        "    for i in range(hp.Int('num_layers', 1, 4)):\n",
        "        model.add(Dense(units=hp.Int(f'units_hidden_{i}', min_value=8, max_value=24, step=2),\n",
        "                        activation='relu',\n",
        "                        kernel_regularizer=l2(hp.Float(f'l2_hidden_{i}', min_value=0.0001, max_value=0.01, sampling='LOG'))))\n",
        "        model.add(Dropout(hp.Float(f'dropout_hidden_{i}', min_value=0.1, max_value=0.5, step=0.1)))\n",
        "    \n",
        "    # Capa de salida\n",
        "    model.add(Dense(1))\n",
        "\n",
        "    # Compilar el modelo\n",
        "    model.compile(optimizer=Adam(learning_rate=hp.Float('learning_rate', min_value=1e-4, max_value=1e-2, sampling='LOG')),\n",
        "                  loss='mean_squared_error',\n",
        "                  metrics=['mean_absolute_error'])\n",
        "\n",
        "    return model"
      ]
    },
    {
      "cell_type": "code",
      "execution_count": null,
      "metadata": {
        "id": "d775z4XJoVbR"
      },
      "outputs": [],
      "source": [
        "# 5. Ajustar los hiperparámetros con búsqueda\n",
        "tuner = RandomSearch(\n",
        "    build_model,\n",
        "    objective='val_loss',\n",
        "    max_trials=4,\n",
        "    executions_per_trial=3,\n",
        "    directory='car_price_tuning',\n",
        "    project_name='car_price_regression'\n",
        ")"
      ]
    },
    {
      "cell_type": "code",
      "execution_count": null,
      "metadata": {
        "colab": {
          "base_uri": "https://localhost:8080/"
        },
        "id": "UjbZTCjJoVYr",
        "outputId": "d919f4e4-3a56-49fa-f489-287a9071a70f"
      },
      "outputs": [
        {
          "output_type": "stream",
          "name": "stdout",
          "text": [
            "Trial 4 Complete [00h 04m 07s]\n",
            "val_loss: 51958118.666666664\n",
            "\n",
            "Best val_loss So Far: 28621385.333333332\n",
            "Total elapsed time: 00h 20m 55s\n"
          ]
        }
      ],
      "source": [
        "tuner.search(X_train, y_train,\n",
        "             epochs=180,\n",
        "             validation_data=(X_val, y_val),\n",
        "             callbacks=[EarlyStopping(monitor='val_loss', patience=5)])"
      ]
    },
    {
      "cell_type": "code",
      "execution_count": null,
      "metadata": {
        "id": "Hc0l5jNayDSz"
      },
      "outputs": [],
      "source": [
        "best_model = tuner.get_best_models(num_models=1)[0]\n",
        "best_hyperparameters = tuner.get_best_hyperparameters(num_trials=1)[0]"
      ]
    },
    {
      "cell_type": "code",
      "execution_count": null,
      "metadata": {
        "colab": {
          "base_uri": "https://localhost:8080/"
        },
        "id": "luAt8vGTyFuv",
        "outputId": "a7e4b6a6-9c7c-4bea-8d42-53242e40de40"
      },
      "outputs": [
        {
          "output_type": "stream",
          "name": "stdout",
          "text": [
            "Epoch 1/250\n",
            "250/250 [==============================] - 2s 3ms/step - loss: 63742252.0000 - mean_absolute_error: 4616.4937\n",
            "Epoch 2/250\n",
            "250/250 [==============================] - 1s 2ms/step - loss: 64336936.0000 - mean_absolute_error: 4587.6182\n",
            "Epoch 3/250\n",
            "250/250 [==============================] - 1s 2ms/step - loss: 57796008.0000 - mean_absolute_error: 4549.7969\n",
            "Epoch 4/250\n",
            "250/250 [==============================] - 1s 2ms/step - loss: 53621128.0000 - mean_absolute_error: 4587.8730\n",
            "Epoch 5/250\n",
            "250/250 [==============================] - 1s 3ms/step - loss: 62583148.0000 - mean_absolute_error: 4569.3428\n",
            "Epoch 6/250\n",
            "250/250 [==============================] - 1s 4ms/step - loss: 58061296.0000 - mean_absolute_error: 4559.2852\n",
            "Epoch 7/250\n",
            "250/250 [==============================] - 1s 4ms/step - loss: 58027280.0000 - mean_absolute_error: 4485.3867\n",
            "Epoch 8/250\n",
            "250/250 [==============================] - 1s 4ms/step - loss: 49874640.0000 - mean_absolute_error: 4416.4839\n",
            "Epoch 9/250\n",
            "250/250 [==============================] - 1s 4ms/step - loss: 49315984.0000 - mean_absolute_error: 4391.8589\n",
            "Epoch 10/250\n",
            "250/250 [==============================] - 1s 3ms/step - loss: 52335736.0000 - mean_absolute_error: 4365.7539\n",
            "Epoch 11/250\n",
            "250/250 [==============================] - 1s 2ms/step - loss: 56495300.0000 - mean_absolute_error: 4430.8057\n",
            "Epoch 12/250\n",
            "250/250 [==============================] - 1s 3ms/step - loss: 55293152.0000 - mean_absolute_error: 4327.6968\n",
            "Epoch 13/250\n",
            "250/250 [==============================] - 1s 2ms/step - loss: 60932488.0000 - mean_absolute_error: 4381.4292\n",
            "Epoch 14/250\n",
            "250/250 [==============================] - 1s 2ms/step - loss: 51074744.0000 - mean_absolute_error: 4358.1167\n",
            "Epoch 15/250\n",
            "250/250 [==============================] - 1s 2ms/step - loss: 50141012.0000 - mean_absolute_error: 4268.8838\n",
            "Epoch 16/250\n",
            "250/250 [==============================] - 1s 2ms/step - loss: 44612376.0000 - mean_absolute_error: 4255.2056\n",
            "Epoch 17/250\n",
            "250/250 [==============================] - 1s 2ms/step - loss: 57121256.0000 - mean_absolute_error: 4297.2603\n",
            "Epoch 18/250\n",
            "250/250 [==============================] - 1s 2ms/step - loss: 55585004.0000 - mean_absolute_error: 4261.5859\n",
            "Epoch 19/250\n",
            "250/250 [==============================] - 1s 2ms/step - loss: 47561696.0000 - mean_absolute_error: 4187.7197\n",
            "Epoch 20/250\n",
            "250/250 [==============================] - 1s 2ms/step - loss: 53871392.0000 - mean_absolute_error: 4226.7236\n",
            "Epoch 21/250\n",
            "250/250 [==============================] - 1s 3ms/step - loss: 48572620.0000 - mean_absolute_error: 4204.6567\n",
            "Epoch 22/250\n",
            "250/250 [==============================] - 1s 2ms/step - loss: 47352048.0000 - mean_absolute_error: 4129.1548\n",
            "Epoch 23/250\n",
            "250/250 [==============================] - 1s 2ms/step - loss: 51348292.0000 - mean_absolute_error: 4243.3608\n",
            "Epoch 24/250\n",
            "250/250 [==============================] - 1s 2ms/step - loss: 43786184.0000 - mean_absolute_error: 4147.5840\n",
            "Epoch 25/250\n",
            "250/250 [==============================] - 1s 2ms/step - loss: 45304824.0000 - mean_absolute_error: 4171.9487\n",
            "Epoch 26/250\n",
            "250/250 [==============================] - 1s 2ms/step - loss: 46905928.0000 - mean_absolute_error: 4170.7930\n",
            "Epoch 27/250\n",
            "250/250 [==============================] - 1s 4ms/step - loss: 51225140.0000 - mean_absolute_error: 4171.9897\n",
            "Epoch 28/250\n",
            "250/250 [==============================] - 1s 4ms/step - loss: 47443284.0000 - mean_absolute_error: 4146.9424\n",
            "Epoch 29/250\n",
            "250/250 [==============================] - 1s 4ms/step - loss: 44433504.0000 - mean_absolute_error: 4122.1274\n",
            "Epoch 30/250\n",
            "250/250 [==============================] - 1s 3ms/step - loss: 50726560.0000 - mean_absolute_error: 4103.8789\n",
            "Epoch 31/250\n",
            "250/250 [==============================] - 1s 4ms/step - loss: 46138716.0000 - mean_absolute_error: 4164.4932\n",
            "Epoch 32/250\n",
            "250/250 [==============================] - 1s 3ms/step - loss: 47958944.0000 - mean_absolute_error: 4120.9990\n",
            "Epoch 33/250\n",
            "250/250 [==============================] - 1s 2ms/step - loss: 44646164.0000 - mean_absolute_error: 4112.8403\n",
            "Epoch 34/250\n",
            "250/250 [==============================] - 1s 2ms/step - loss: 45966664.0000 - mean_absolute_error: 4190.5283\n",
            "Epoch 35/250\n",
            "250/250 [==============================] - 1s 2ms/step - loss: 46127892.0000 - mean_absolute_error: 4101.1636\n",
            "Epoch 36/250\n",
            "250/250 [==============================] - 1s 2ms/step - loss: 47194716.0000 - mean_absolute_error: 4111.1411\n",
            "Epoch 37/250\n",
            "250/250 [==============================] - 1s 2ms/step - loss: 52170828.0000 - mean_absolute_error: 4176.7471\n",
            "Epoch 38/250\n",
            "250/250 [==============================] - 1s 2ms/step - loss: 51146888.0000 - mean_absolute_error: 4171.8828\n",
            "Epoch 39/250\n",
            "250/250 [==============================] - 1s 2ms/step - loss: 40019992.0000 - mean_absolute_error: 4119.0220\n",
            "Epoch 40/250\n",
            "250/250 [==============================] - 1s 2ms/step - loss: 52035608.0000 - mean_absolute_error: 4228.3154\n",
            "Epoch 41/250\n",
            "250/250 [==============================] - 1s 2ms/step - loss: 48643804.0000 - mean_absolute_error: 4202.2871\n",
            "Epoch 42/250\n",
            "250/250 [==============================] - 1s 2ms/step - loss: 48141644.0000 - mean_absolute_error: 4189.6577\n",
            "Epoch 43/250\n",
            "250/250 [==============================] - 1s 2ms/step - loss: 45725288.0000 - mean_absolute_error: 4160.4175\n",
            "Epoch 44/250\n",
            "250/250 [==============================] - 1s 2ms/step - loss: 47594444.0000 - mean_absolute_error: 4217.2002\n",
            "Epoch 45/250\n",
            "250/250 [==============================] - 1s 3ms/step - loss: 46275764.0000 - mean_absolute_error: 4172.1162\n",
            "Epoch 46/250\n",
            "250/250 [==============================] - 1s 3ms/step - loss: 48017140.0000 - mean_absolute_error: 4189.7070\n",
            "Epoch 47/250\n",
            "250/250 [==============================] - 1s 2ms/step - loss: 44914036.0000 - mean_absolute_error: 4159.3032\n",
            "Epoch 48/250\n",
            "250/250 [==============================] - 1s 3ms/step - loss: 49356956.0000 - mean_absolute_error: 4323.1646\n",
            "Epoch 49/250\n",
            "250/250 [==============================] - 1s 4ms/step - loss: 44277356.0000 - mean_absolute_error: 4193.6997\n",
            "Epoch 50/250\n",
            "250/250 [==============================] - 1s 4ms/step - loss: 49576984.0000 - mean_absolute_error: 4234.0181\n",
            "Epoch 51/250\n",
            "250/250 [==============================] - 1s 4ms/step - loss: 50423976.0000 - mean_absolute_error: 4195.5107\n",
            "Epoch 52/250\n",
            "250/250 [==============================] - 1s 4ms/step - loss: 43271700.0000 - mean_absolute_error: 4093.0789\n",
            "Epoch 53/250\n",
            "250/250 [==============================] - 1s 3ms/step - loss: 43410420.0000 - mean_absolute_error: 4149.9043\n",
            "Epoch 54/250\n",
            "250/250 [==============================] - 1s 2ms/step - loss: 41123776.0000 - mean_absolute_error: 4123.7129\n",
            "Epoch 55/250\n",
            "250/250 [==============================] - 1s 2ms/step - loss: 44400440.0000 - mean_absolute_error: 4161.4453\n",
            "Epoch 56/250\n",
            "250/250 [==============================] - 1s 3ms/step - loss: 46305884.0000 - mean_absolute_error: 4187.1909\n",
            "Epoch 57/250\n",
            "250/250 [==============================] - 1s 2ms/step - loss: 46794800.0000 - mean_absolute_error: 4064.5811\n",
            "Epoch 58/250\n",
            "250/250 [==============================] - 1s 2ms/step - loss: 53197392.0000 - mean_absolute_error: 4153.1035\n",
            "Epoch 59/250\n",
            "250/250 [==============================] - 1s 3ms/step - loss: 43570556.0000 - mean_absolute_error: 4166.7964\n",
            "Epoch 60/250\n",
            "250/250 [==============================] - 1s 3ms/step - loss: 46048500.0000 - mean_absolute_error: 4162.3804\n",
            "Epoch 61/250\n",
            "250/250 [==============================] - 1s 2ms/step - loss: 43306980.0000 - mean_absolute_error: 4133.9165\n",
            "Epoch 62/250\n",
            "250/250 [==============================] - 1s 3ms/step - loss: 47319832.0000 - mean_absolute_error: 4184.9746\n",
            "Epoch 63/250\n",
            "250/250 [==============================] - 1s 3ms/step - loss: 45397452.0000 - mean_absolute_error: 4156.5664\n",
            "Epoch 64/250\n",
            "250/250 [==============================] - 1s 3ms/step - loss: 43061932.0000 - mean_absolute_error: 4116.8843\n"
          ]
        }
      ],
      "source": [
        "history = best_model.fit(np.concatenate([X_train, X_val]), np.concatenate([y_train, y_val]),\n",
        "                         epochs=250, batch_size=32,\n",
        "                         callbacks=[EarlyStopping(monitor='loss', patience=25)])"
      ]
    },
    {
      "cell_type": "code",
      "execution_count": null,
      "metadata": {
        "colab": {
          "base_uri": "https://localhost:8080/"
        },
        "id": "RDQCOXbTyKKC",
        "outputId": "c8a6d1b2-eb54-4a99-a8c5-920fd8cbdbbf"
      },
      "outputs": [
        {
          "output_type": "stream",
          "name": "stdout",
          "text": [
            "63/63 [==============================] - 0s 2ms/step - loss: 39988332.0000 - mean_absolute_error: 2666.6492\n",
            "Loss: 39988332.000, Mean Absolute Error: 2666.649\n"
          ]
        }
      ],
      "source": [
        "loss, mean_abs_error = best_model.evaluate(X_test, y_test, verbose=1)\n",
        "print(f\"Loss: {loss:.3f}, Mean Absolute Error: {mean_abs_error:.3f}\")"
      ]
    },
    {
      "cell_type": "code",
      "source": [
        "best_model.save('modelo.hdf5')"
      ],
      "metadata": {
        "id": "dcG8J91MrUcw"
      },
      "execution_count": null,
      "outputs": []
    },
    {
      "cell_type": "code",
      "execution_count": null,
      "metadata": {
        "colab": {
          "base_uri": "https://localhost:8080/",
          "height": 490
        },
        "id": "S1l-l4vFy2Zs",
        "outputId": "0efcbee1-7666-487f-f2c4-9756c6978fa0"
      },
      "outputs": [
        {
          "output_type": "stream",
          "name": "stdout",
          "text": [
            "63/63 [==============================] - 0s 2ms/step\n"
          ]
        },
        {
          "output_type": "display_data",
          "data": {
            "text/plain": [
              "<Figure size 640x480 with 1 Axes>"
            ],
            "image/png": "[encoded data removed]"
          },
          "metadata": {}
        }
      ],
      "source": [
        "# Realizar predicciones con el mejor modelo\n",
        "y_pred = best_model.predict(X_test)\n",
        "\n",
        "# Cambiar la forma de los arrays de precios predichos y reales\n",
        "y_pred = y_pred.reshape(-1)\n",
        "y_test = y_test.to_numpy().reshape(-1)  # Convierte y_test a un array de NumPy antes de cambiar su forma\n",
        "\n",
        "# Crear un scatter plot para comparar los precios reales y predichos\n",
        "plt.scatter(y_test, y_pred)\n",
        "plt.xlabel(\"Precios Reales\")\n",
        "plt.ylabel(\"Precios Predichos\")\n",
        "plt.title(\"Precios Reales vs Precios Predichos\")\n",
        "\n",
        "# Dibujar una línea diagonal para representar la predicción perfecta\n",
        "plt.plot([min(y_test), max(y_test)], [min(y_test), max(y_test)], color='red', linestyle='--')\n",
        "\n",
        "plt.show()"
      ]
    },
    {
      "cell_type": "code",
      "execution_count": null,
      "metadata": {
        "colab": {
          "base_uri": "https://localhost:8080/",
          "height": 490
        },
        "id": "KjQPHXvz5yXj",
        "outputId": "094991dc-cdbd-4b98-a3ea-1c6da7b21996"
      },
      "outputs": [
        {
          "output_type": "stream",
          "name": "stdout",
          "text": [
            "63/63 [==============================] - 0s 2ms/step\n"
          ]
        },
        {
          "output_type": "display_data",
          "data": {
            "text/plain": [
              "<Figure size 640x480 with 1 Axes>"
            ],
            "image/png": "[encoded data removed]"
          },
          "metadata": {}
        }
      ],
      "source": [
        "# Realizar predicciones con el mejor modelo\n",
        "y_pred = best_model.predict(X_test)\n",
        "\n",
        "# Cambiar la forma de los arrays de precios predichos y reales\n",
        "y_pred = y_pred.reshape(-1)\n",
        "y_test = y_test.reshape(-1)\n",
        "\n",
        "# Seleccionar una muestra de los datos (por ejemplo, los primeros 50)\n",
        "num_samples = 50\n",
        "indices = np.arange(num_samples)\n",
        "y_test_sample = y_test[:num_samples]\n",
        "y_pred_sample = y_pred[:num_samples]\n",
        "\n",
        "# Crear un gráfico de barras con la muestra de datos\n",
        "plt.bar(indices, y_test_sample, width=0.4, label='Precios Reales', color='b')\n",
        "plt.bar(indices + 0.4, y_pred_sample, width=0.4, label='Precios Predichos', color='g')\n",
        "\n",
        "plt.xlabel(\"Índice de Muestra\")\n",
        "plt.ylabel(\"Precio\")\n",
        "plt.title(\"Comparación de Precios Reales y Predichos\")\n",
        "plt.legend()\n",
        "\n",
        "plt.show()"
      ]
    },
    {
      "cell_type": "code",
      "execution_count": null,
      "metadata": {
        "id": "xGGEPaHU8e6c"
      },
      "outputs": [],
      "source": [
        "# y_test = y_test.reshape(-1)\n",
        "# y_pred = y_pred.to_numpy().reshape(-1)"
      ]
    },
    {
      "cell_type": "code",
      "source": [
        "dump(scaler, 'scaler.pkl')"
      ],
      "metadata": {
        "colab": {
          "base_uri": "https://localhost:8080/"
        },
        "id": "TvhvtYyvmSOj",
        "outputId": "8058ccf7-602f-48f8-c772-6f85a33df1ff"
      },
      "execution_count": null,
      "outputs": [
        {
          "output_type": "execute_result",
          "data": {
            "text/plain": [
              "['scaler.pkl']"
            ]
          },
          "metadata": {},
          "execution_count": 67
        }
      ]
    },
    {
      "cell_type": "code",
      "execution_count": null,
      "metadata": {
        "colab": {
          "base_uri": "https://localhost:8080/"
        },
        "id": "Fjk_bqBNAsjv",
        "outputId": "b31a7316-6e7e-4855-ebdf-13ce29fac023"
      },
      "outputs": [
        {
          "output_type": "execute_result",
          "data": {
            "text/plain": [
              "array([11495, 25299, 16000, ..., 26950, 14990, 12500])"
            ]
          },
          "metadata": {},
          "execution_count": 68
        }
      ],
      "source": [
        "y_test"
      ]
    },
    {
      "cell_type": "code",
      "execution_count": null,
      "metadata": {
        "colab": {
          "base_uri": "https://localhost:8080/"
        },
        "id": "7Vd_vP-yAwLF",
        "outputId": "3518f5c1-a44a-4fe6-cccc-521e716d1a2d"
      },
      "outputs": [
        {
          "output_type": "execute_result",
          "data": {
            "text/plain": [
              "array([13493.362, 26338.91 , 17672.734, ..., 28171.56 , 14257.217,\n",
              "       13165.791], dtype=float32)"
            ]
          },
          "metadata": {},
          "execution_count": 69
        }
      ],
      "source": [
        "y_pred"
      ]
    },
    {
      "cell_type": "code",
      "source": [
        "X_test"
      ],
      "metadata": {
        "colab": {
          "base_uri": "https://localhost:8080/",
          "height": 505
        },
        "id": "PKLDLofJsLzk",
        "outputId": "3017e363-170e-468f-ee04-f9c7e26198df"
      },
      "execution_count": null,
      "outputs": [
        {
          "output_type": "execute_result",
          "data": {
            "text/plain": [
              "      Color_COMMON.COLOR_BEIGE  Color_COMMON.COLOR_BLACK  \\\n",
              "4535                       0.0                       0.0   \n",
              "9652                       0.0                       0.0   \n",
              "2649                       0.0                       0.0   \n",
              "4553                       0.0                       0.0   \n",
              "7525                       0.0                       0.0   \n",
              "...                        ...                       ...   \n",
              "4310                       0.0                       0.0   \n",
              "6585                       0.0                       0.0   \n",
              "8105                       0.0                       0.0   \n",
              "1073                       0.0                       0.0   \n",
              "1722                       0.0                       0.0   \n",
              "\n",
              "      Color_COMMON.COLOR_BLUE  Color_COMMON.COLOR_BROWN  \\\n",
              "4535                      0.0                       0.0   \n",
              "9652                      0.0                       0.0   \n",
              "2649                      0.0                       0.0   \n",
              "4553                      1.0                       0.0   \n",
              "7525                      1.0                       0.0   \n",
              "...                       ...                       ...   \n",
              "4310                      0.0                       0.0   \n",
              "6585                      0.0                       0.0   \n",
              "8105                      1.0                       0.0   \n",
              "1073                      0.0                       0.0   \n",
              "1722                      0.0                       0.0   \n",
              "\n",
              "      Color_COMMON.COLOR_GARNET  Color_COMMON.COLOR_GRAY  \\\n",
              "4535                        0.0                      0.0   \n",
              "9652                        0.0                      1.0   \n",
              "2649                        0.0                      0.0   \n",
              "4553                        0.0                      0.0   \n",
              "7525                        0.0                      0.0   \n",
              "...                         ...                      ...   \n",
              "4310                        0.0                      0.0   \n",
              "6585                        0.0                      0.0   \n",
              "8105                        0.0                      0.0   \n",
              "1073                        0.0                      0.0   \n",
              "1722                        0.0                      0.0   \n",
              "\n",
              "      Color_COMMON.COLOR_GREEN  Color_COMMON.COLOR_ORANGE  \\\n",
              "4535                       0.0                        0.0   \n",
              "9652                       0.0                        0.0   \n",
              "2649                       0.0                        0.0   \n",
              "4553                       0.0                        0.0   \n",
              "7525                       0.0                        0.0   \n",
              "...                        ...                        ...   \n",
              "4310                       0.0                        0.0   \n",
              "6585                       0.0                        0.0   \n",
              "8105                       0.0                        0.0   \n",
              "1073                       0.0                        0.0   \n",
              "1722                       0.0                        0.0   \n",
              "\n",
              "      Color_COMMON.COLOR_PINK  Color_COMMON.COLOR_PURPLE  ...  \\\n",
              "4535                      0.0                        0.0  ...   \n",
              "9652                      0.0                        0.0  ...   \n",
              "2649                      0.0                        0.0  ...   \n",
              "4553                      0.0                        0.0  ...   \n",
              "7525                      0.0                        0.0  ...   \n",
              "...                       ...                        ...  ...   \n",
              "4310                      0.0                        0.0  ...   \n",
              "6585                      0.0                        0.0  ...   \n",
              "8105                      0.0                        0.0  ...   \n",
              "1073                      0.0                        0.0  ...   \n",
              "1722                      0.0                        0.0  ...   \n",
              "\n",
              "      Body Type_BODY_TYPE_COUPE  Body Type_BODY_TYPE_FAMILIAR  \\\n",
              "4535                        0.0                           0.0   \n",
              "9652                        0.0                           0.0   \n",
              "2649                        0.0                           0.0   \n",
              "4553                        0.0                           0.0   \n",
              "7525                        0.0                           0.0   \n",
              "...                         ...                           ...   \n",
              "4310                        0.0                           0.0   \n",
              "6585                        0.0                           0.0   \n",
              "8105                        0.0                           0.0   \n",
              "1073                        0.0                           0.0   \n",
              "1722                        0.0                           0.0   \n",
              "\n",
              "      Body Type_BODY_TYPE_MINIVAN  Body Type_BODY_TYPE_PICK_UP  \\\n",
              "4535                          0.0                          0.0   \n",
              "9652                          0.0                          0.0   \n",
              "2649                          1.0                          0.0   \n",
              "4553                          0.0                          0.0   \n",
              "7525                          0.0                          0.0   \n",
              "...                           ...                          ...   \n",
              "4310                          0.0                          0.0   \n",
              "6585                          1.0                          0.0   \n",
              "8105                          0.0                          0.0   \n",
              "1073                          0.0                          0.0   \n",
              "1722                          0.0                          0.0   \n",
              "\n",
              "      Body Type_BODY_TYPE_SEDAN        KM      Year  Horsepower  \\\n",
              "4535                        1.0  0.077027  0.128269         1.0   \n",
              "9652                        1.0  0.162162  0.197830         1.0   \n",
              "2649                        0.0  0.067568  0.104252         1.0   \n",
              "4553                        1.0  0.020270  0.037182         1.0   \n",
              "7525                        0.0  0.094595  0.057641         1.0   \n",
              "...                         ...       ...       ...         ...   \n",
              "4310                        0.0  0.087838  0.111012         1.0   \n",
              "6585                        0.0  0.054054  0.111012         1.0   \n",
              "8105                        0.0  0.094595  0.110834         1.0   \n",
              "1073                        1.0  0.066216  0.104252         1.0   \n",
              "1722                        0.0  0.108108  0.086995         1.0   \n",
              "\n",
              "      Cubic Capacity  Doors  \n",
              "4535        0.529265    0.5  \n",
              "9652        0.142935    0.9  \n",
              "2649        0.600000    0.6  \n",
              "4553        0.235735    0.9  \n",
              "7525        0.188235    0.7  \n",
              "...              ...    ...  \n",
              "4310        0.091318    0.7  \n",
              "6585        0.473035    0.7  \n",
              "8105        0.198588    0.9  \n",
              "1073        0.938412    0.2  \n",
              "1722        0.547059    0.2  \n",
              "\n",
              "[1999 rows x 525 columns]"
            ],
            "text/html": [
              "\n",
              "  <div id=\"df-33f17e79-6232-405e-937d-fc33b04eb6b7\">\n",
              "    <div class=\"colab-df-container\">\n",
              "      <div>\n",
              "<style scoped>\n",
              "    .dataframe tbody tr th:only-of-type {\n",
              "        vertical-align: middle;\n",
              "    }\n",
              "\n",
              "    .dataframe tbody tr th {\n",
              "        vertical-align: top;\n",
              "    }\n",
              "\n",
              "    .dataframe thead th {\n",
              "        text-align: right;\n",
              "    }\n",
              "</style>\n",
              "<table border=\"1\" class=\"dataframe\">\n",
              "  <thead>\n",
              "    <tr style=\"text-align: right;\">\n",
              "      <th></th>\n",
              "      <th>Color_COMMON.COLOR_BEIGE</th>\n",
              "      <th>Color_COMMON.COLOR_BLACK</th>\n",
              "      <th>Color_COMMON.COLOR_BLUE</th>\n",
              "      <th>Color_COMMON.COLOR_BROWN</th>\n",
              "      <th>Color_COMMON.COLOR_GARNET</th>\n",
              "      <th>Color_COMMON.COLOR_GRAY</th>\n",
              "      <th>Color_COMMON.COLOR_GREEN</th>\n",
              "      <th>Color_COMMON.COLOR_ORANGE</th>\n",
              "      <th>Color_COMMON.COLOR_PINK</th>\n",
              "      <th>Color_COMMON.COLOR_PURPLE</th>\n",
              "      <th>...</th>\n",
              "      <th>Body Type_BODY_TYPE_COUPE</th>\n",
              "      <th>Body Type_BODY_TYPE_FAMILIAR</th>\n",
              "      <th>Body Type_BODY_TYPE_MINIVAN</th>\n",
              "      <th>Body Type_BODY_TYPE_PICK_UP</th>\n",
              "      <th>Body Type_BODY_TYPE_SEDAN</th>\n",
              "      <th>KM</th>\n",
              "      <th>Year</th>\n",
              "      <th>Horsepower</th>\n",
              "      <th>Cubic Capacity</th>\n",
              "      <th>Doors</th>\n",
              "    </tr>\n",
              "  </thead>\n",
              "  <tbody>\n",
              "    <tr>\n",
              "      <th>4535</th>\n",
              "      <td>0.0</td>\n",
              "      <td>0.0</td>\n",
              "      <td>0.0</td>\n",
              "      <td>0.0</td>\n",
              "      <td>0.0</td>\n",
              "      <td>0.0</td>\n",
              "      <td>0.0</td>\n",
              "      <td>0.0</td>\n",
              "      <td>0.0</td>\n",
              "      <td>0.0</td>\n",
              "      <td>...</td>\n",
              "      <td>0.0</td>\n",
              "      <td>0.0</td>\n",
              "      <td>0.0</td>\n",
              "      <td>0.0</td>\n",
              "      <td>1.0</td>\n",
              "      <td>0.077027</td>\n",
              "      <td>0.128269</td>\n",
              "      <td>1.0</td>\n",
              "      <td>0.529265</td>\n",
              "      <td>0.5</td>\n",
              "    </tr>\n",
              "    <tr>\n",
              "      <th>9652</th>\n",
              "      <td>0.0</td>\n",
              "      <td>0.0</td>\n",
              "      <td>0.0</td>\n",
              "      <td>0.0</td>\n",
              "      <td>0.0</td>\n",
              "      <td>1.0</td>\n",
              "      <td>0.0</td>\n",
              "      <td>0.0</td>\n",
              "      <td>0.0</td>\n",
              "      <td>0.0</td>\n",
              "      <td>...</td>\n",
              "      <td>0.0</td>\n",
              "      <td>0.0</td>\n",
              "      <td>0.0</td>\n",
              "      <td>0.0</td>\n",
              "      <td>1.0</td>\n",
              "      <td>0.162162</td>\n",
              "      <td>0.197830</td>\n",
              "      <td>1.0</td>\n",
              "      <td>0.142935</td>\n",
              "      <td>0.9</td>\n",
              "    </tr>\n",
              "    <tr>\n",
              "      <th>2649</th>\n",
              "      <td>0.0</td>\n",
              "      <td>0.0</td>\n",
              "      <td>0.0</td>\n",
              "      <td>0.0</td>\n",
              "      <td>0.0</td>\n",
              "      <td>0.0</td>\n",
              "      <td>0.0</td>\n",
              "      <td>0.0</td>\n",
              "      <td>0.0</td>\n",
              "      <td>0.0</td>\n",
              "      <td>...</td>\n",
              "      <td>0.0</td>\n",
              "      <td>0.0</td>\n",
              "      <td>1.0</td>\n",
              "      <td>0.0</td>\n",
              "      <td>0.0</td>\n",
              "      <td>0.067568</td>\n",
              "      <td>0.104252</td>\n",
              "      <td>1.0</td>\n",
              "      <td>0.600000</td>\n",
              "      <td>0.6</td>\n",
              "    </tr>\n",
              "    <tr>\n",
              "      <th>4553</th>\n",
              "      <td>0.0</td>\n",
              "      <td>0.0</td>\n",
              "      <td>1.0</td>\n",
              "      <td>0.0</td>\n",
              "      <td>0.0</td>\n",
              "      <td>0.0</td>\n",
              "      <td>0.0</td>\n",
              "      <td>0.0</td>\n",
              "      <td>0.0</td>\n",
              "      <td>0.0</td>\n",
              "      <td>...</td>\n",
              "      <td>0.0</td>\n",
              "      <td>0.0</td>\n",
              "      <td>0.0</td>\n",
              "      <td>0.0</td>\n",
              "      <td>1.0</td>\n",
              "      <td>0.020270</td>\n",
              "      <td>0.037182</td>\n",
              "      <td>1.0</td>\n",
              "      <td>0.235735</td>\n",
              "      <td>0.9</td>\n",
              "    </tr>\n",
              "    <tr>\n",
              "      <th>7525</th>\n",
              "      <td>0.0</td>\n",
              "      <td>0.0</td>\n",
              "      <td>1.0</td>\n",
              "      <td>0.0</td>\n",
              "      <td>0.0</td>\n",
              "      <td>0.0</td>\n",
              "      <td>0.0</td>\n",
              "      <td>0.0</td>\n",
              "      <td>0.0</td>\n",
              "      <td>0.0</td>\n",
              "      <td>...</td>\n",
              "      <td>0.0</td>\n",
              "      <td>0.0</td>\n",
              "      <td>0.0</td>\n",
              "      <td>0.0</td>\n",
              "      <td>0.0</td>\n",
              "      <td>0.094595</td>\n",
              "      <td>0.057641</td>\n",
              "      <td>1.0</td>\n",
              "      <td>0.188235</td>\n",
              "      <td>0.7</td>\n",
              "    </tr>\n",
              "    <tr>\n",
              "      <th>...</th>\n",
              "      <td>...</td>\n",
              "      <td>...</td>\n",
              "      <td>...</td>\n",
              "      <td>...</td>\n",
              "      <td>...</td>\n",
              "      <td>...</td>\n",
              "      <td>...</td>\n",
              "      <td>...</td>\n",
              "      <td>...</td>\n",
              "      <td>...</td>\n",
              "      <td>...</td>\n",
              "      <td>...</td>\n",
              "      <td>...</td>\n",
              "      <td>...</td>\n",
              "      <td>...</td>\n",
              "      <td>...</td>\n",
              "      <td>...</td>\n",
              "      <td>...</td>\n",
              "      <td>...</td>\n",
              "      <td>...</td>\n",
              "      <td>...</td>\n",
              "    </tr>\n",
              "    <tr>\n",
              "      <th>4310</th>\n",
              "      <td>0.0</td>\n",
              "      <td>0.0</td>\n",
              "      <td>0.0</td>\n",
              "      <td>0.0</td>\n",
              "      <td>0.0</td>\n",
              "      <td>0.0</td>\n",
              "      <td>0.0</td>\n",
              "      <td>0.0</td>\n",
              "      <td>0.0</td>\n",
              "      <td>0.0</td>\n",
              "      <td>...</td>\n",
              "      <td>0.0</td>\n",
              "      <td>0.0</td>\n",
              "      <td>0.0</td>\n",
              "      <td>0.0</td>\n",
              "      <td>0.0</td>\n",
              "      <td>0.087838</td>\n",
              "      <td>0.111012</td>\n",
              "      <td>1.0</td>\n",
              "      <td>0.091318</td>\n",
              "      <td>0.7</td>\n",
              "    </tr>\n",
              "    <tr>\n",
              "      <th>6585</th>\n",
              "      <td>0.0</td>\n",
              "      <td>0.0</td>\n",
              "      <td>0.0</td>\n",
              "      <td>0.0</td>\n",
              "      <td>0.0</td>\n",
              "      <td>0.0</td>\n",
              "      <td>0.0</td>\n",
              "      <td>0.0</td>\n",
              "      <td>0.0</td>\n",
              "      <td>0.0</td>\n",
              "      <td>...</td>\n",
              "      <td>0.0</td>\n",
              "      <td>0.0</td>\n",
              "      <td>1.0</td>\n",
              "      <td>0.0</td>\n",
              "      <td>0.0</td>\n",
              "      <td>0.054054</td>\n",
              "      <td>0.111012</td>\n",
              "      <td>1.0</td>\n",
              "      <td>0.473035</td>\n",
              "      <td>0.7</td>\n",
              "    </tr>\n",
              "    <tr>\n",
              "      <th>8105</th>\n",
              "      <td>0.0</td>\n",
              "      <td>0.0</td>\n",
              "      <td>1.0</td>\n",
              "      <td>0.0</td>\n",
              "      <td>0.0</td>\n",
              "      <td>0.0</td>\n",
              "      <td>0.0</td>\n",
              "      <td>0.0</td>\n",
              "      <td>0.0</td>\n",
              "      <td>0.0</td>\n",
              "      <td>...</td>\n",
              "      <td>0.0</td>\n",
              "      <td>0.0</td>\n",
              "      <td>0.0</td>\n",
              "      <td>0.0</td>\n",
              "      <td>0.0</td>\n",
              "      <td>0.094595</td>\n",
              "      <td>0.110834</td>\n",
              "      <td>1.0</td>\n",
              "      <td>0.198588</td>\n",
              "      <td>0.9</td>\n",
              "    </tr>\n",
              "    <tr>\n",
              "      <th>1073</th>\n",
              "      <td>0.0</td>\n",
              "      <td>0.0</td>\n",
              "      <td>0.0</td>\n",
              "      <td>0.0</td>\n",
              "      <td>0.0</td>\n",
              "      <td>0.0</td>\n",
              "      <td>0.0</td>\n",
              "      <td>0.0</td>\n",
              "      <td>0.0</td>\n",
              "      <td>0.0</td>\n",
              "      <td>...</td>\n",
              "      <td>0.0</td>\n",
              "      <td>0.0</td>\n",
              "      <td>0.0</td>\n",
              "      <td>0.0</td>\n",
              "      <td>1.0</td>\n",
              "      <td>0.066216</td>\n",
              "      <td>0.104252</td>\n",
              "      <td>1.0</td>\n",
              "      <td>0.938412</td>\n",
              "      <td>0.2</td>\n",
              "    </tr>\n",
              "    <tr>\n",
              "      <th>1722</th>\n",
              "      <td>0.0</td>\n",
              "      <td>0.0</td>\n",
              "      <td>0.0</td>\n",
              "      <td>0.0</td>\n",
              "      <td>0.0</td>\n",
              "      <td>0.0</td>\n",
              "      <td>0.0</td>\n",
              "      <td>0.0</td>\n",
              "      <td>0.0</td>\n",
              "      <td>0.0</td>\n",
              "      <td>...</td>\n",
              "      <td>0.0</td>\n",
              "      <td>0.0</td>\n",
              "      <td>0.0</td>\n",
              "      <td>0.0</td>\n",
              "      <td>0.0</td>\n",
              "      <td>0.108108</td>\n",
              "      <td>0.086995</td>\n",
              "      <td>1.0</td>\n",
              "      <td>0.547059</td>\n",
              "      <td>0.2</td>\n",
              "    </tr>\n",
              "  </tbody>\n",
              "</table>\n",
              "<p>1999 rows × 525 columns</p>\n",
              "</div>\n",
              "      <button class=\"colab-df-convert\" onclick=\"convertToInteractive('df-33f17e79-6232-405e-937d-fc33b04eb6b7')\"\n",
              "              title=\"Convert this dataframe to an interactive table.\"\n",
              "              style=\"display:none;\">\n",
              "        \n",
              "  <svg xmlns=\"http://www.w3.org/2000/svg\" height=\"24px\"viewBox=\"0 0 24 24\"\n",
              "       width=\"24px\">\n",
              "    <path d=\"M0 0h24v24H0V0z\" fill=\"none\"/>\n",
              "    <path d=\"M18.56 5.44l.94 2.06.94-2.06 2.06-.94-2.06-.94-.94-2.06-.94 2.06-2.06.94zm-11 1L8.5 8.5l.94-2.06 2.06-.94-2.06-.94L8.5 2.5l-.94 2.06-2.06.94zm10 10l.94 2.06.94-2.06 2.06-.94-2.06-.94-.94-2.06-.94 2.06-2.06.94z\"/><path d=\"M17.41 7.96l-1.37-1.37c-.4-.4-.92-.59-1.43-.59-.52 0-1.04.2-1.43.59L10.3 9.45l-7.72 7.72c-.78.78-.78 2.05 0 2.83L4 21.41c.39.39.9.59 1.41.59.51 0 1.02-.2 1.41-.59l7.78-7.78 2.81-2.81c.8-.78.8-2.07 0-2.86zM5.41 20L4 18.59l7.72-7.72 1.47 1.35L5.41 20z\"/>\n",
              "  </svg>\n",
              "      </button>\n",
              "      \n",
              "  <style>\n",
              "    .colab-df-container {\n",
              "      display:flex;\n",
              "      flex-wrap:wrap;\n",
              "      gap: 12px;\n",
              "    }\n",
              "\n",
              "    .colab-df-convert {\n",
              "      background-color: #E8F0FE;\n",
              "      border: none;\n",
              "      border-radius: 50%;\n",
              "      cursor: pointer;\n",
              "      display: none;\n",
              "      fill: #1967D2;\n",
              "      height: 32px;\n",
              "      padding: 0 0 0 0;\n",
              "      width: 32px;\n",
              "    }\n",
              "\n",
              "    .colab-df-convert:hover {\n",
              "      background-color: #E2EBFA;\n",
              "      box-shadow: 0px 1px 2px rgba(60, 64, 67, 0.3), 0px 1px 3px 1px rgba(60, 64, 67, 0.15);\n",
              "      fill: #174EA6;\n",
              "    }\n",
              "\n",
              "    [theme=dark] .colab-df-convert {\n",
              "      background-color: #3B4455;\n",
              "      fill: #D2E3FC;\n",
              "    }\n",
              "\n",
              "    [theme=dark] .colab-df-convert:hover {\n",
              "      background-color: #434B5C;\n",
              "      box-shadow: 0px 1px 3px 1px rgba(0, 0, 0, 0.15);\n",
              "      filter: drop-shadow(0px 1px 2px rgba(0, 0, 0, 0.3));\n",
              "      fill: #FFFFFF;\n",
              "    }\n",
              "  </style>\n",
              "\n",
              "      <script>\n",
              "        const buttonEl =\n",
              "          document.querySelector('#df-33f17e79-6232-405e-937d-fc33b04eb6b7 button.colab-df-convert');\n",
              "        buttonEl.style.display =\n",
              "          google.colab.kernel.accessAllowed ? 'block' : 'none';\n",
              "\n",
              "        async function convertToInteractive(key) {\n",
              "          const element = document.querySelector('#df-33f17e79-6232-405e-937d-fc33b04eb6b7');\n",
              "          const dataTable =\n",
              "            await google.colab.kernel.invokeFunction('convertToInteractive',\n",
              "                                                     [key], {});\n",
              "          if (!dataTable) return;\n",
              "\n",
              "          const docLinkHtml = 'Like what you see? Visit the ' +\n",
              "            '<a target=\"_blank\" href=https://colab.research.google.com/notebooks/data_table.ipynb>data table notebook</a>'\n",
              "            + ' to learn more about interactive tables.';\n",
              "          element.innerHTML = '';\n",
              "          dataTable['output_type'] = 'display_data';\n",
              "          await google.colab.output.renderOutput(dataTable, element);\n",
              "          const docLink = document.createElement('div');\n",
              "          docLink.innerHTML = docLinkHtml;\n",
              "          element.appendChild(docLink);\n",
              "        }\n",
              "      </script>\n",
              "    </div>\n",
              "  </div>\n",
              "  "
            ]
          },
          "metadata": {},
          "execution_count": 70
        }
      ]
    },
    {
      "cell_type": "code",
      "execution_count": null,
      "metadata": {
        "colab": {
          "base_uri": "https://localhost:8080/"
        },
        "id": "wI2nFHZt8AuX",
        "outputId": "77080acc-e9b9-47b6-eb97-3415fd85a85c"
      },
      "outputs": [
        {
          "output_type": "stream",
          "name": "stdout",
          "text": [
            "Error absoluto medio (MAE): 2666.65\n",
            "Error cuadrático medio (RMSE): 6323.63\n",
            "Coeficiente de determinación (R^2): 0.93\n"
          ]
        }
      ],
      "source": [
        "# Calcular el error absoluto medio (MAE)\n",
        "mae = mean_absolute_error(y_test, y_pred)\n",
        "print(f\"Error absoluto medio (MAE): {mae:.2f}\")\n",
        "\n",
        "# Calcular el error cuadrático medio (RMSE)\n",
        "rmse = np.sqrt(mean_squared_error(y_test, y_pred))\n",
        "print(f\"Error cuadrático medio (RMSE): {rmse:.2f}\")\n",
        "\n",
        "# Calcular el coeficiente de determinación (R^2)\n",
        "r2 = r2_score(y_test, y_pred)\n",
        "print(f\"Coeficiente de determinación (R^2): {r2:.2f}\")"
      ]
    }
  ],
  "metadata": {
    "colab": {
      "provenance": [],
      "include_colab_link": true
    },
    "kernelspec": {
      "display_name": "Python 3",
      "name": "python3"
    },
    "language_info": {
      "name": "python"
    }
  },
  "nbformat": 4,
  "nbformat_minor": 0
}